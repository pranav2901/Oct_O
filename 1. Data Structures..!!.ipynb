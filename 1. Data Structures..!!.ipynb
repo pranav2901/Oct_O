{
 "cells": [
  {
   "cell_type": "code",
   "execution_count": null,
   "id": "1a3a9476",
   "metadata": {},
   "outputs": [],
   "source": [
    "print(\"hello world\") "
   ]
  },
  {
   "cell_type": "code",
   "execution_count": null,
   "id": "c37cbe99",
   "metadata": {},
   "outputs": [],
   "source": [
    "#Numbers\n",
    "#a=3 ; b=5  #a and b are number objects\n",
    "a = 3\n",
    "b = 5\n",
    "print(a)\n",
    "print(b)"
   ]
  },
  {
   "cell_type": "code",
   "execution_count": null,
   "id": "601c8f4f",
   "metadata": {},
   "outputs": [],
   "source": [
    "a = 3\n",
    "b = 5\n",
    "print(a + b) #addition\n",
    "print(a - b) #sutraction\n",
    "print (a * b) #Multiplication\n",
    "print          (a / b) #dividation\n",
    "print(type(b))"
   ]
  },
  {
   "cell_type": "code",
   "execution_count": null,
   "id": "90985ac9",
   "metadata": {},
   "outputs": [],
   "source": [
    "#String\n",
    "str1 = 'Hello Students' #string str1\n",
    "str2 = ' how are you' #string str2  "
   ]
  },
  {
   "cell_type": "code",
   "execution_count": null,
   "id": "bcb251e8",
   "metadata": {},
   "outputs": [],
   "source": [
    "print(str1)\n",
    "print(str2)"
   ]
  },
  {
   "cell_type": "code",
   "execution_count": null,
   "id": "62d8d813",
   "metadata": {},
   "outputs": [],
   "source": [
    "str11 = 'Hello students '\n",
    "str2 = 'how r u'"
   ]
  },
  {
   "cell_type": "code",
   "execution_count": null,
   "id": "c8e2e99f",
   "metadata": {},
   "outputs": [],
   "source": [
    "print(str11)\n",
    "print(str2)\n",
    "print(str1)"
   ]
  },
  {
   "cell_type": "code",
   "execution_count": null,
   "id": "27672098",
   "metadata": {},
   "outputs": [],
   "source": [
    "Name  = \"Pranav\"\n",
    "Middle_name = ' Pravin'\n",
    "Surname = \" Gandhi\"\n",
    "Address = ' Pune, Maharashtra'\n",
    "Name + Middle_name + Surname + Address #concatenation"
   ]
  },
  {
   "cell_type": "code",
   "execution_count": null,
   "id": "ef5d4534",
   "metadata": {},
   "outputs": [],
   "source": [
    "str1\n",
    "str2"
   ]
  },
  {
   "cell_type": "code",
   "execution_count": null,
   "id": "68032f78",
   "metadata": {},
   "outputs": [],
   "source": [
    "str1"
   ]
  },
  {
   "cell_type": "code",
   "execution_count": null,
   "id": "0747f3ee",
   "metadata": {},
   "outputs": [],
   "source": [
    "str2"
   ]
  },
  {
   "cell_type": "code",
   "execution_count": null,
   "id": "ccff11c9",
   "metadata": {},
   "outputs": [],
   "source": [
    "print (Address[7:]) #printing first five character using slice operator"
   ]
  },
  {
   "cell_type": "code",
   "execution_count": null,
   "id": "f15d821e",
   "metadata": {},
   "outputs": [],
   "source": [
    "(str1[0:3])"
   ]
  },
  {
   "cell_type": "code",
   "execution_count": null,
   "id": "e5651b24",
   "metadata": {},
   "outputs": [],
   "source": [
    "print (str1[4]) #printing 5th character of the string "
   ]
  },
  {
   "cell_type": "code",
   "execution_count": null,
   "id": "c5b8bb96",
   "metadata": {},
   "outputs": [],
   "source": [
    "print(str1*2) #printing the string twice  "
   ]
  },
  {
   "cell_type": "code",
   "execution_count": null,
   "id": "28d55ab8",
   "metadata": {},
   "outputs": [],
   "source": [
    "print (str1 + \" \" + str2) #printing the concatenation of str1 and str2"
   ]
  },
  {
   "cell_type": "code",
   "execution_count": 2,
   "id": "d8d708c2",
   "metadata": {},
   "outputs": [],
   "source": [
    "#Lists\n",
    "list_1  = [1, \"hi\", \"python\", True, \"a\", \"Santosh\", 'Mango'] "
   ]
  },
  {
   "cell_type": "code",
   "execution_count": 3,
   "id": "eaef3654",
   "metadata": {},
   "outputs": [
    {
     "name": "stdout",
     "output_type": "stream",
     "text": [
      "['hi', 'python', True, 'a', 'Santosh', 'Mango']\n"
     ]
    }
   ],
   "source": [
    "print (list_1[1:])"
   ]
  },
  {
   "cell_type": "code",
   "execution_count": 5,
   "id": "ae49ee6a",
   "metadata": {},
   "outputs": [
    {
     "name": "stdout",
     "output_type": "stream",
     "text": [
      "[1, 'hi', 'python', True]\n"
     ]
    }
   ],
   "source": [
    "print (list_1[0:4])"
   ]
  },
  {
   "cell_type": "code",
   "execution_count": 6,
   "id": "894e3347",
   "metadata": {},
   "outputs": [
    {
     "name": "stdout",
     "output_type": "stream",
     "text": [
      "[1, 'hi', 'python', True, 'a', 'Santosh', 'Mango']\n"
     ]
    }
   ],
   "source": [
    "print (list_1) "
   ]
  },
  {
   "cell_type": "code",
   "execution_count": 9,
   "id": "1b190a22",
   "metadata": {},
   "outputs": [
    {
     "name": "stdout",
     "output_type": "stream",
     "text": [
      "[1, 'hi', 'python', True, 'a', 'Santosh', 'Mango', 1, 'hi', 'python', True, 'a', 'Santosh', 'Mango']\n"
     ]
    }
   ],
   "source": [
    "print (list_1 + list_1) "
   ]
  },
  {
   "cell_type": "code",
   "execution_count": 10,
   "id": "c0235c21",
   "metadata": {},
   "outputs": [
    {
     "name": "stdout",
     "output_type": "stream",
     "text": [
      "[1, 'hi', 'python', True, 'a', 'Santosh', 'Mango', 1, 'hi', 'python', True, 'a', 'Santosh', 'Mango', 1, 'hi', 'python', True, 'a', 'Santosh', 'Mango']\n"
     ]
    }
   ],
   "source": [
    "print (list_1 * 3)"
   ]
  },
  {
   "cell_type": "code",
   "execution_count": 11,
   "id": "a2ab331f",
   "metadata": {},
   "outputs": [
    {
     "name": "stdout",
     "output_type": "stream",
     "text": [
      "<class 'list'>\n"
     ]
    },
    {
     "data": {
      "text/plain": [
       "list"
      ]
     },
     "execution_count": 11,
     "metadata": {},
     "output_type": "execute_result"
    }
   ],
   "source": [
    "print (type(list_1))\n",
    "type(list_1)"
   ]
  },
  {
   "cell_type": "code",
   "execution_count": 12,
   "id": "29765b4c",
   "metadata": {},
   "outputs": [
    {
     "data": {
      "text/plain": [
       "[1, 'hi', 'python', True, 'a', 'Santosh', 'Mango']"
      ]
     },
     "execution_count": 12,
     "metadata": {},
     "output_type": "execute_result"
    }
   ],
   "source": [
    "list_1"
   ]
  },
  {
   "cell_type": "code",
   "execution_count": 13,
   "id": "ca487d0f",
   "metadata": {},
   "outputs": [],
   "source": [
    "#Lets try mutation \n",
    "list_1[1] = \"Bye\""
   ]
  },
  {
   "cell_type": "code",
   "execution_count": 14,
   "id": "0ff557d4",
   "metadata": {},
   "outputs": [
    {
     "name": "stdout",
     "output_type": "stream",
     "text": [
      "[1, 'Bye', 'python', True, 'a', 'Santosh', 'Mango']\n"
     ]
    }
   ],
   "source": [
    "print (list_1) #Bye get added to existing list"
   ]
  },
  {
   "cell_type": "code",
   "execution_count": 15,
   "id": "77ee934a",
   "metadata": {},
   "outputs": [],
   "source": [
    "#Tuple\n",
    "t  = ('hi', 'python', 2, 4, \"world\", \"ravi\", True, 4.5)"
   ]
  },
  {
   "cell_type": "code",
   "execution_count": 16,
   "id": "1720e2a7",
   "metadata": {},
   "outputs": [
    {
     "data": {
      "text/plain": [
       "('hi', 'python', 2, 4, 'world', 'ravi', True, 4.5)"
      ]
     },
     "execution_count": 16,
     "metadata": {},
     "output_type": "execute_result"
    }
   ],
   "source": [
    "t "
   ]
  },
  {
   "cell_type": "code",
   "execution_count": 17,
   "id": "8cc7b717",
   "metadata": {},
   "outputs": [
    {
     "name": "stdout",
     "output_type": "stream",
     "text": [
      "('python', 2, 4, 'world', 'ravi', True, 4.5)\n",
      "('hi', 'python', 2, 4, 'world', 'ravi', True, 4.5)\n"
     ]
    }
   ],
   "source": [
    "print (t[1:]) ; print(t) #Semicolon is optional for single line but for multiple lines to execute we have to put it"
   ]
  },
  {
   "cell_type": "code",
   "execution_count": 18,
   "id": "a1f04829",
   "metadata": {},
   "outputs": [
    {
     "name": "stdout",
     "output_type": "stream",
     "text": [
      "('hi', 'python', 2)\n"
     ]
    }
   ],
   "source": [
    "print (t[0:3])"
   ]
  },
  {
   "cell_type": "code",
   "execution_count": 19,
   "id": "deb54503",
   "metadata": {},
   "outputs": [
    {
     "name": "stdout",
     "output_type": "stream",
     "text": [
      "('hi', 'python', 2, 4, 'world', 'ravi', True, 4.5)\n"
     ]
    }
   ],
   "source": [
    "print (t)"
   ]
  },
  {
   "cell_type": "code",
   "execution_count": 20,
   "id": "d197b648",
   "metadata": {},
   "outputs": [
    {
     "name": "stdout",
     "output_type": "stream",
     "text": [
      "('hi', 'python', 2, 4, 'world', 'ravi', True, 4.5, 'hi', 'python', 2, 4, 'world', 'ravi', True, 4.5)\n"
     ]
    }
   ],
   "source": [
    "print (t + t)"
   ]
  },
  {
   "cell_type": "code",
   "execution_count": 21,
   "id": "f2de4115",
   "metadata": {},
   "outputs": [
    {
     "name": "stdout",
     "output_type": "stream",
     "text": [
      "('hi', 'python', 2, 4, 'world', 'ravi', True, 4.5, 'hi', 'python', 2, 4, 'world', 'ravi', True, 4.5, 'hi', 'python', 2, 4, 'world', 'ravi', True, 4.5)\n"
     ]
    }
   ],
   "source": [
    "print (t * 3)"
   ]
  },
  {
   "cell_type": "code",
   "execution_count": 22,
   "id": "d3962dc1",
   "metadata": {},
   "outputs": [
    {
     "name": "stdout",
     "output_type": "stream",
     "text": [
      "<class 'tuple'>\n"
     ]
    }
   ],
   "source": [
    "print (type(t)) "
   ]
  },
  {
   "cell_type": "code",
   "execution_count": 23,
   "id": "6739a58c",
   "metadata": {},
   "outputs": [
    {
     "data": {
      "text/plain": [
       "('hi', 'python', 2, 4, 'world', 'ravi', True, 4.5)"
      ]
     },
     "execution_count": 23,
     "metadata": {},
     "output_type": "execute_result"
    }
   ],
   "source": [
    "t"
   ]
  },
  {
   "cell_type": "code",
   "execution_count": 24,
   "id": "b69b2ed1",
   "metadata": {},
   "outputs": [
    {
     "ename": "TypeError",
     "evalue": "'tuple' object does not support item assignment",
     "output_type": "error",
     "traceback": [
      "\u001b[1;31m---------------------------------------------------------------------------\u001b[0m",
      "\u001b[1;31mTypeError\u001b[0m                                 Traceback (most recent call last)",
      "\u001b[1;32m~\\AppData\\Local\\Temp/ipykernel_25772/939989993.py\u001b[0m in \u001b[0;36m<module>\u001b[1;34m\u001b[0m\n\u001b[0;32m      1\u001b[0m \u001b[1;31m#Lets try mutation\u001b[0m\u001b[1;33m\u001b[0m\u001b[1;33m\u001b[0m\u001b[0m\n\u001b[1;32m----> 2\u001b[1;33m \u001b[0mt\u001b[0m\u001b[1;33m[\u001b[0m\u001b[1;36m1\u001b[0m\u001b[1;33m]\u001b[0m \u001b[1;33m=\u001b[0m \u001b[1;34m\"Bye\"\u001b[0m         \u001b[1;31m#trows error, as tuple object does not support item assignement\u001b[0m\u001b[1;33m\u001b[0m\u001b[1;33m\u001b[0m\u001b[0m\n\u001b[0m",
      "\u001b[1;31mTypeError\u001b[0m: 'tuple' object does not support item assignment"
     ]
    }
   ],
   "source": [
    "#Lets try mutation \n",
    "t[1] = \"Bye\"         #trows error, as tuple object does not support item assignement"
   ]
  },
  {
   "cell_type": "code",
   "execution_count": 25,
   "id": "33921bf3",
   "metadata": {},
   "outputs": [
    {
     "name": "stdout",
     "output_type": "stream",
     "text": [
      "('hi', 'python', 2, 4, 'world', 'ravi', True, 4.5)\n"
     ]
    }
   ],
   "source": [
    "print (t)"
   ]
  },
  {
   "cell_type": "code",
   "execution_count": 26,
   "id": "73cc0819",
   "metadata": {},
   "outputs": [],
   "source": [
    "#Dictionary\n",
    "d = {101:\"Jimmy\", 222:'Alex', 333:'john', 40:'mike'}"
   ]
  },
  {
   "cell_type": "code",
   "execution_count": 27,
   "id": "5fab6e20",
   "metadata": {},
   "outputs": [
    {
     "data": {
      "text/plain": [
       "{101: 'Jimmy', 222: 'Alex', 333: 'john', 40: 'mike'}"
      ]
     },
     "execution_count": 27,
     "metadata": {},
     "output_type": "execute_result"
    }
   ],
   "source": [
    "d"
   ]
  },
  {
   "cell_type": "code",
   "execution_count": 28,
   "id": "d41b7363",
   "metadata": {},
   "outputs": [
    {
     "name": "stdout",
     "output_type": "stream",
     "text": [
      "1st name is Jimmy\n"
     ]
    }
   ],
   "source": [
    "print(\"1st name is \" + d[101]) "
   ]
  },
  {
   "cell_type": "code",
   "execution_count": 29,
   "id": "a571090a",
   "metadata": {},
   "outputs": [
    {
     "name": "stdout",
     "output_type": "stream",
     "text": [
      "2nd name is mike\n"
     ]
    }
   ],
   "source": [
    "print(\"2nd name is \" + d[40]) "
   ]
  },
  {
   "cell_type": "code",
   "execution_count": 30,
   "id": "b2f58974",
   "metadata": {},
   "outputs": [
    {
     "name": "stdout",
     "output_type": "stream",
     "text": [
      "{101: 'Jimmy', 222: 'Alex', 333: 'john', 40: 'mike'}\n"
     ]
    }
   ],
   "source": [
    "print (d);"
   ]
  },
  {
   "cell_type": "code",
   "execution_count": 31,
   "id": "154cdc72",
   "metadata": {},
   "outputs": [
    {
     "name": "stdout",
     "output_type": "stream",
     "text": [
      "dict_keys([101, 222, 333, 40])\n"
     ]
    }
   ],
   "source": [
    "print (d.keys());"
   ]
  },
  {
   "cell_type": "code",
   "execution_count": 32,
   "id": "57aa99d3",
   "metadata": {},
   "outputs": [
    {
     "name": "stdout",
     "output_type": "stream",
     "text": [
      "dict_values(['Jimmy', 'Alex', 'john', 'mike'])\n"
     ]
    }
   ],
   "source": [
    "print (d.values());"
   ]
  },
  {
   "cell_type": "code",
   "execution_count": null,
   "id": "531f531b",
   "metadata": {},
   "outputs": [],
   "source": [
    "#----ADVANCED----\n",
    "#list\n",
    "#ordered collection of items; sequence of items in a list\n",
    "shoplist =['apple','carrot','mango', 'banana']"
   ]
  },
  {
   "cell_type": "code",
   "execution_count": null,
   "id": "06ce5d9b",
   "metadata": {},
   "outputs": [],
   "source": [
    "shoplist"
   ]
  },
  {
   "cell_type": "code",
   "execution_count": null,
   "id": "8d1133c3",
   "metadata": {},
   "outputs": [],
   "source": [
    "len(shoplist)"
   ]
  },
  {
   "cell_type": "code",
   "execution_count": null,
   "id": "fa395997",
   "metadata": {},
   "outputs": [],
   "source": [
    "print(shoplist)"
   ]
  },
  {
   "cell_type": "code",
   "execution_count": null,
   "id": "18076018",
   "metadata": {},
   "outputs": [],
   "source": [
    "#add item to list\n",
    "shoplist.append('rice')"
   ]
  },
  {
   "cell_type": "code",
   "execution_count": null,
   "id": "68df7a92",
   "metadata": {},
   "outputs": [],
   "source": [
    "shoplist"
   ]
  },
  {
   "cell_type": "code",
   "execution_count": null,
   "id": "65568694",
   "metadata": {},
   "outputs": [],
   "source": [
    "#sort\n",
    "shoplist.sort()  #inplace sort"
   ]
  },
  {
   "cell_type": "code",
   "execution_count": null,
   "id": "79e2460e",
   "metadata": {},
   "outputs": [],
   "source": [
    "shoplist"
   ]
  },
  {
   "cell_type": "code",
   "execution_count": null,
   "id": "975b49e3",
   "metadata": {},
   "outputs": [],
   "source": [
    "#index/select\n",
    "shoplist[0]"
   ]
  },
  {
   "cell_type": "code",
   "execution_count": null,
   "id": "75b5fd8a",
   "metadata": {},
   "outputs": [],
   "source": [
    "shoplist[0:4]"
   ]
  },
  {
   "cell_type": "code",
   "execution_count": null,
   "id": "aca44351",
   "metadata": {},
   "outputs": [],
   "source": [
    "#delete item\n",
    "del shoplist[0]"
   ]
  },
  {
   "cell_type": "code",
   "execution_count": null,
   "id": "e504f670",
   "metadata": {},
   "outputs": [],
   "source": [
    "shoplist"
   ]
  },
  {
   "cell_type": "code",
   "execution_count": null,
   "id": "aebaeced",
   "metadata": {},
   "outputs": [],
   "source": [
    "#Tuple\n",
    "#Used to hold multiple object; similar to lists; less functionality than list\n",
    "#immutable - cannot modify\n",
    "zoo = ('python','lion','elephant','bird')"
   ]
  },
  {
   "cell_type": "code",
   "execution_count": null,
   "id": "843b87f0",
   "metadata": {},
   "outputs": [],
   "source": [
    "zoo"
   ]
  },
  {
   "cell_type": "code",
   "execution_count": null,
   "id": "62d3893b",
   "metadata": {},
   "outputs": [],
   "source": [
    "len(zoo)"
   ]
  },
  {
   "cell_type": "code",
   "execution_count": null,
   "id": "62093047",
   "metadata": {},
   "outputs": [],
   "source": [
    "languages = 'c', 'java', 'php' , 1, \"c++\"              #better to put (), this also works"
   ]
  },
  {
   "cell_type": "code",
   "execution_count": null,
   "id": "2d57c1ab",
   "metadata": {},
   "outputs": [],
   "source": [
    "languages"
   ]
  },
  {
   "cell_type": "code",
   "execution_count": null,
   "id": "6dc3c7fc",
   "metadata": {},
   "outputs": [],
   "source": [
    "type(languages)"
   ]
  },
  {
   "cell_type": "code",
   "execution_count": null,
   "id": "298fb859",
   "metadata": {},
   "outputs": [],
   "source": [
    "#Dictionary - like an addressbook. use of associate keys with values\n",
    "#key-value pairs { 'key1':value1, 'key2':value2} ; { } bracket, :colon"
   ]
  },
  {
   "cell_type": "code",
   "execution_count": null,
   "id": "28f42182",
   "metadata": {},
   "outputs": [],
   "source": [
    "student = {'A101': 'Abhinav', 'A102': 'Ravi', 'A103':'Prafull', 'A104': 'Karan'}"
   ]
  },
  {
   "cell_type": "code",
   "execution_count": null,
   "id": "6ac9a6c4",
   "metadata": {},
   "outputs": [],
   "source": [
    "student"
   ]
  },
  {
   "cell_type": "code",
   "execution_count": null,
   "id": "bc1e309a",
   "metadata": {},
   "outputs": [],
   "source": [
    "student['A103']"
   ]
  },
  {
   "cell_type": "code",
   "execution_count": null,
   "id": "71e2efdf",
   "metadata": {},
   "outputs": [],
   "source": [
    "print('Name of rollno A103 is ' + student['A103'])"
   ]
  },
  {
   "cell_type": "code",
   "execution_count": null,
   "id": "76b67787",
   "metadata": {},
   "outputs": [],
   "source": [
    "del student['A104']"
   ]
  },
  {
   "cell_type": "code",
   "execution_count": null,
   "id": "727ee252",
   "metadata": {},
   "outputs": [],
   "source": [
    "student"
   ]
  },
  {
   "cell_type": "code",
   "execution_count": null,
   "id": "046e3ff9",
   "metadata": {},
   "outputs": [],
   "source": [
    "len(student)"
   ]
  },
  {
   "cell_type": "code",
   "execution_count": null,
   "id": "9429a118",
   "metadata": {},
   "outputs": [],
   "source": [
    "#Lets test Mutation: \n",
    "#adding a value\n",
    "student['A104'] = 'Hitesh'"
   ]
  },
  {
   "cell_type": "code",
   "execution_count": null,
   "id": "63f59f9e",
   "metadata": {},
   "outputs": [],
   "source": [
    "student"
   ]
  },
  {
   "cell_type": "code",
   "execution_count": null,
   "id": "9bce56e2",
   "metadata": {},
   "outputs": [],
   "source": [
    "#Set\n",
    "Anubhav = {1,2,3,4,5,4,2,5,5,5,5,5,5}"
   ]
  },
  {
   "cell_type": "code",
   "execution_count": null,
   "id": "545936ca",
   "metadata": {},
   "outputs": [],
   "source": [
    "Anubhav"
   ]
  },
  {
   "cell_type": "code",
   "execution_count": null,
   "id": "87ace3c9",
   "metadata": {},
   "outputs": [],
   "source": [
    "Aman_1 = set() #Empty set creation using set function"
   ]
  },
  {
   "cell_type": "code",
   "execution_count": null,
   "id": "22638643",
   "metadata": {},
   "outputs": [],
   "source": [
    "Aman_1"
   ]
  },
  {
   "cell_type": "code",
   "execution_count": null,
   "id": "87294611",
   "metadata": {},
   "outputs": [],
   "source": [
    "a = list() #Empty list creation"
   ]
  },
  {
   "cell_type": "code",
   "execution_count": null,
   "id": "22fb3022",
   "metadata": {},
   "outputs": [],
   "source": [
    "a"
   ]
  },
  {
   "cell_type": "code",
   "execution_count": null,
   "id": "c2e93299",
   "metadata": {},
   "outputs": [],
   "source": [
    "b = tuple()"
   ]
  },
  {
   "cell_type": "code",
   "execution_count": null,
   "id": "a3176176",
   "metadata": {},
   "outputs": [],
   "source": [
    "b"
   ]
  },
  {
   "cell_type": "code",
   "execution_count": null,
   "id": "077531ea",
   "metadata": {},
   "outputs": [],
   "source": [
    "c = dict()"
   ]
  },
  {
   "cell_type": "code",
   "execution_count": null,
   "id": "c5325f56",
   "metadata": {},
   "outputs": [],
   "source": [
    "c"
   ]
  },
  {
   "cell_type": "code",
   "execution_count": null,
   "id": "4e540484",
   "metadata": {},
   "outputs": [],
   "source": [
    "d = series() #cause series() is available in pandas, we need to import pandas for this, that we will see when we study pandas package"
   ]
  },
  {
   "cell_type": "code",
   "execution_count": null,
   "id": "507dcb96",
   "metadata": {},
   "outputs": [],
   "source": [
    "e = DataFrame() #cause DataFrame() is available in pandas, we need to import pandas for this, that we will see when we study pandas package"
   ]
  },
  {
   "cell_type": "code",
   "execution_count": null,
   "id": "d3158992",
   "metadata": {},
   "outputs": [],
   "source": [
    "#Sets\n",
    "teamA = set(['india','england','australia','sri lanka','ireland'])"
   ]
  },
  {
   "cell_type": "code",
   "execution_count": null,
   "id": "c79e0c8f",
   "metadata": {},
   "outputs": [],
   "source": [
    "teamA"
   ]
  },
  {
   "cell_type": "code",
   "execution_count": null,
   "id": "f22a0e5c",
   "metadata": {},
   "outputs": [],
   "source": [
    "teamB = set(['pakistan', 'south africa','bangladesh','ireland'])"
   ]
  },
  {
   "cell_type": "code",
   "execution_count": null,
   "id": "71112908",
   "metadata": {},
   "outputs": [],
   "source": [
    "teamB"
   ]
  },
  {
   "cell_type": "code",
   "execution_count": null,
   "id": "374ae890",
   "metadata": {},
   "outputs": [],
   "source": [
    "#Checking whether a data value exists in a set or not.\n",
    "'india' in teamA"
   ]
  },
  {
   "cell_type": "code",
   "execution_count": null,
   "id": "f234f90e",
   "metadata": {},
   "outputs": [],
   "source": [
    "'india' in teamB"
   ]
  },
  {
   "cell_type": "code",
   "execution_count": null,
   "id": "7a19f0f1",
   "metadata": {},
   "outputs": [],
   "source": [
    "#Adding values in a set\n",
    "teamA.add('China')"
   ]
  },
  {
   "cell_type": "code",
   "execution_count": null,
   "id": "8d59d81d",
   "metadata": {},
   "outputs": [],
   "source": [
    "teamA"
   ]
  },
  {
   "cell_type": "code",
   "execution_count": null,
   "id": "8a53d4f0",
   "metadata": {},
   "outputs": [],
   "source": [
    "teamA.add('india')"
   ]
  },
  {
   "cell_type": "code",
   "execution_count": null,
   "id": "d0cb3c61",
   "metadata": {},
   "outputs": [],
   "source": [
    "teamA  #no duplicates"
   ]
  },
  {
   "cell_type": "code",
   "execution_count": null,
   "id": "6f680f96",
   "metadata": {},
   "outputs": [],
   "source": [
    "teamA.remove('australia')"
   ]
  },
  {
   "cell_type": "code",
   "execution_count": null,
   "id": "43010773",
   "metadata": {},
   "outputs": [],
   "source": [
    "teamA"
   ]
  },
  {
   "cell_type": "code",
   "execution_count": null,
   "id": "b35140f5",
   "metadata": {},
   "outputs": [],
   "source": [
    "#Create dataframe :\n",
    "import pandas as pd"
   ]
  },
  {
   "cell_type": "code",
   "execution_count": null,
   "id": "76951395",
   "metadata": {},
   "outputs": [],
   "source": [
    "#Create a DataFrame\n",
    "d = {'Name':['Alisa','Bobby','Cathrine','Alisa','Bobby','Cathrine',\n",
    "            'Alisa','Bobby','Cathrine','Alisa','Bobby','Cathrine'],\n",
    "     \n",
    "     \n",
    "     \n",
    "     \n",
    "    'Exam':['Semester 1','Semester 1','Semester 1','Semester 1','Semester 1','Semester 1',\n",
    "           'Semester 2','Semester 2','Semester 2','Semester 2','Semester 2','Semester 2'],\n",
    "     \n",
    "     \n",
    "     \n",
    "     \n",
    "   'Subject':['Mathematics','Mathematics','Mathematics','Science','Science','Science',\n",
    "                               'Mathematics','Mathematics','Mathematics','Science','Science','Science'],\n",
    "     \n",
    " \n",
    "     \n",
    "     \n",
    "    'Score':[62,47,55,74,31,77,85,63,42,67,89,81]}"
   ]
  },
  {
   "cell_type": "code",
   "execution_count": null,
   "id": "e1942130",
   "metadata": {},
   "outputs": [],
   "source": [
    "d"
   ]
  },
  {
   "cell_type": "code",
   "execution_count": null,
   "id": "98463625",
   "metadata": {},
   "outputs": [],
   "source": [
    "df = pd.DataFrame(d,columns=['Exam','Subject','Score','Name']) #Dataframes are 2 dimensional array"
   ]
  },
  {
   "cell_type": "code",
   "execution_count": null,
   "id": "84ba957e",
   "metadata": {},
   "outputs": [],
   "source": [
    "import pandas as pd\n",
    "df"
   ]
  },
  {
   "cell_type": "code",
   "execution_count": null,
   "id": "6a3c4714",
   "metadata": {},
   "outputs": [],
   "source": [
    "#View a column of the dataframe in pandas:\n",
    "\n",
    "df ['Name']\n",
    "\n",
    "#df [['Name']]"
   ]
  },
  {
   "cell_type": "code",
   "execution_count": null,
   "id": "fc79e90b",
   "metadata": {},
   "outputs": [],
   "source": [
    "#View two columns of the dataframe in pandas:\n",
    "\n",
    "df [['Name','Score','Exam']]"
   ]
  },
  {
   "cell_type": "code",
   "execution_count": null,
   "id": "7c61effc",
   "metadata": {},
   "outputs": [],
   "source": [
    "#View first two rows of the dataframe in pandas:\n",
    "df[0:2]"
   ]
  },
  {
   "cell_type": "code",
   "execution_count": null,
   "id": "dddf1170",
   "metadata": {},
   "outputs": [],
   "source": [
    "import pandas as pd\n",
    "import numpy as np\n",
    "\n",
    "\n",
    "# Creating empty series (Series is a single dimentional array)\n",
    "ser = pd.Series()\n",
    "\n",
    "print(ser)"
   ]
  },
  {
   "cell_type": "code",
   "execution_count": null,
   "id": "1c888610",
   "metadata": {},
   "outputs": [],
   "source": [
    "# simple array\n",
    "data = np.array(['g', 'e', 'e', 'k', 's'])\n",
    "\n",
    "ser = pd.Series(data)\n",
    "print(data)\n",
    "print(\"\\n\")\n",
    "print(ser)"
   ]
  },
  {
   "cell_type": "code",
   "execution_count": null,
   "id": "df7ccaaa",
   "metadata": {},
   "outputs": [],
   "source": [
    "data = np.array(['g', 'e', 'e', 'k', 's'])\n",
    "\n",
    "ser = pd.Series(data, name = \"Trial\")\n",
    "print(ser)"
   ]
  },
  {
   "cell_type": "code",
   "execution_count": null,
   "id": "f4a05946",
   "metadata": {},
   "outputs": [],
   "source": []
  }
 ],
 "metadata": {
  "kernelspec": {
   "display_name": "Python 3 (ipykernel)",
   "language": "python",
   "name": "python3"
  },
  "language_info": {
   "codemirror_mode": {
    "name": "ipython",
    "version": 3
   },
   "file_extension": ".py",
   "mimetype": "text/x-python",
   "name": "python",
   "nbconvert_exporter": "python",
   "pygments_lexer": "ipython3",
   "version": "3.9.7"
  }
 },
 "nbformat": 4,
 "nbformat_minor": 5
}
