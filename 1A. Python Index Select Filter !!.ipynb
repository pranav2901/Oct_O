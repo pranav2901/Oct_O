{
 "cells": [
  {
   "cell_type": "code",
   "execution_count": null,
   "id": "7e86aee0",
   "metadata": {},
   "outputs": [],
   "source": [
    "#------------------------Index, Select & Filter--------------------------------\n",
    "#Create dataframe :\n",
    "import pandas as pd\n",
    "\n",
    "#Create a DataFrame\n",
    "d = {'Name':['Alisa','Bobby','Cathrine','Alisa','Bobby','Cathrine',\n",
    "            'Alisa','Bobby','Cathrine','Alisa','Bobby','Cathrine'],\n",
    "              'Exam':['Semester 1','Semester 1','Semester 1','Semester 1','Semester 1','Semester 1',\n",
    "                    'Semester 2','Semester 2','Semester 2','Semester 2','Semester 2','Semester 2'],\n",
    "                    'Subject':['Mathematics','Mathematics','Mathematics','Science','Science','Science',\n",
    "                               'Mathematics','Mathematics','Mathematics','Science','Science','Science'],\n",
    "                               'Score':[62,47,55,74,31,77,85,63,42,67,89,81]}"
   ]
  },
  {
   "cell_type": "code",
   "execution_count": null,
   "id": "d7611e45",
   "metadata": {},
   "outputs": [],
   "source": [
    "df = pd.DataFrame(d,columns=['Name','Exam','Subject','Score'])"
   ]
  },
  {
   "cell_type": "code",
   "execution_count": null,
   "id": "90994af6",
   "metadata": {},
   "outputs": [],
   "source": [
    "#View a column of the dataframe in pandas:\n",
    "df['Name']"
   ]
  },
  {
   "cell_type": "code",
   "execution_count": null,
   "id": "05570333",
   "metadata": {},
   "outputs": [],
   "source": [
    "#View two columns of the dataframe in pandas:\n",
    "df[['Name','Score','Exam']]"
   ]
  },
  {
   "cell_type": "code",
   "execution_count": null,
   "id": "64ddb3aa",
   "metadata": {},
   "outputs": [],
   "source": [
    "#View first two rows of the dataframe in pandas:\n",
    "df[0:2]"
   ]
  },
  {
   "cell_type": "code",
   "execution_count": null,
   "id": "4bd9f890",
   "metadata": {},
   "outputs": [],
   "source": [
    "#-------Filter in Pandas dataframe:--------------\n",
    "#View all rows where score greater than 70  \n",
    "df['Score'] > 70"
   ]
  },
  {
   "cell_type": "code",
   "execution_count": null,
   "id": "494b44f2",
   "metadata": {},
   "outputs": [],
   "source": [
    "df[df['Score'] > 70]"
   ]
  },
  {
   "cell_type": "code",
   "execution_count": null,
   "id": "7725c1ab",
   "metadata": {},
   "outputs": [],
   "source": [
    "#View all the rows where score greater than 70 and less than 85\n",
    "df[(df['Score'] > 70) & (df['Score'] < 85)]"
   ]
  },
  {
   "cell_type": "code",
   "execution_count": null,
   "id": "18012294",
   "metadata": {},
   "outputs": [],
   "source": [
    "#-----------------Select in Pandas dataframe-----------------------------------\n",
    "#select row by using row number in pandas  with .iloc\n",
    "#.iloc [1:m, 1:n] – is used to select or index rows based on their position \n",
    "#from 1 to m rows and 1 to n columns\n",
    "\n",
    "# select first 2 rows\n",
    "df.iloc[0:2]"
   ]
  },
  {
   "cell_type": "code",
   "execution_count": null,
   "id": "62501e73",
   "metadata": {},
   "outputs": [],
   "source": [
    "# or\n",
    "df.iloc[0:2,]"
   ]
  },
  {
   "cell_type": "code",
   "execution_count": null,
   "id": "815c27c3",
   "metadata": {},
   "outputs": [],
   "source": [
    "#select 3rd to 5th rows\n",
    "df.iloc[2:5]"
   ]
  },
  {
   "cell_type": "code",
   "execution_count": null,
   "id": "21f5c3aa",
   "metadata": {},
   "outputs": [],
   "source": [
    "# or\n",
    "df.iloc[2:5,]"
   ]
  },
  {
   "cell_type": "code",
   "execution_count": null,
   "id": "ca786486",
   "metadata": {},
   "outputs": [],
   "source": [
    "#select all rows starting from third row\n",
    "df.iloc[2:]"
   ]
  },
  {
   "cell_type": "code",
   "execution_count": null,
   "id": "5c2f6b46",
   "metadata": {},
   "outputs": [],
   "source": [
    "# or\n",
    "df.iloc[2:,]"
   ]
  },
  {
   "cell_type": "code",
   "execution_count": null,
   "id": "ae732b6d",
   "metadata": {},
   "outputs": [],
   "source": [
    "#Select column by using column number in pandas with .iloc\n",
    "# select first 2 columns\n",
    "df.iloc[:,:2]"
   ]
  },
  {
   "cell_type": "code",
   "execution_count": null,
   "id": "969f9ff6",
   "metadata": {},
   "outputs": [],
   "source": [
    "#select first 1st and 4th columns\n",
    "df.iloc[[2,4],[0,3]]"
   ]
  },
  {
   "cell_type": "code",
   "execution_count": null,
   "id": "c380ad1d",
   "metadata": {},
   "outputs": [],
   "source": [
    "#Select value by using row name and column name in pandas with .loc:\n",
    "#.loc [[Row_names],[ column_names]] –used to select or index rows or columns based on their name\n",
    "\n",
    "#select value by row label and column label using loc\n",
    "df.loc[[1,2,4,8,11],['Name','Score']]"
   ]
  },
  {
   "cell_type": "code",
   "execution_count": null,
   "id": "5f2d6d0e",
   "metadata": {},
   "outputs": [],
   "source": []
  }
 ],
 "metadata": {
  "kernelspec": {
   "display_name": "Python 3 (ipykernel)",
   "language": "python",
   "name": "python3"
  },
  "language_info": {
   "codemirror_mode": {
    "name": "ipython",
    "version": 3
   },
   "file_extension": ".py",
   "mimetype": "text/x-python",
   "name": "python",
   "nbconvert_exporter": "python",
   "pygments_lexer": "ipython3",
   "version": "3.9.7"
  }
 },
 "nbformat": 4,
 "nbformat_minor": 5
}
