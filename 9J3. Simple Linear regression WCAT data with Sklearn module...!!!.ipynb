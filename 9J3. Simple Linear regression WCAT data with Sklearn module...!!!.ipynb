{
 "cells": [
  {
   "cell_type": "code",
   "execution_count": 3,
   "id": "b6563f3a",
   "metadata": {},
   "outputs": [],
   "source": [
    "from sklearn.linear_model import LinearRegression\n",
    "import pandas as pd\n",
    "import numpy as np"
   ]
  },
  {
   "cell_type": "code",
   "execution_count": 12,
   "id": "c5ed937a",
   "metadata": {},
   "outputs": [],
   "source": [
    "wcat=pd.read_csv(\"Datasets/wc-at.csv\")"
   ]
  },
  {
   "cell_type": "code",
   "execution_count": 16,
   "id": "3df2bf66",
   "metadata": {},
   "outputs": [
    {
     "data": {
      "text/plain": [
       "0    74.75\n",
       "1    72.60\n",
       "2    81.80\n",
       "3    83.95\n",
       "4    74.65\n",
       "Name: Waist, dtype: float64"
      ]
     },
     "execution_count": 16,
     "metadata": {},
     "output_type": "execute_result"
    }
   ],
   "source": [
    "x = wcat[\"Waist\"]\n",
    "y = wcat[\"AT\"]\n",
    "x.head(5)"
   ]
  },
  {
   "cell_type": "code",
   "execution_count": 6,
   "id": "1ff63aef",
   "metadata": {},
   "outputs": [],
   "source": [
    "model1 = LinearRegression()"
   ]
  },
  {
   "cell_type": "code",
   "execution_count": 7,
   "id": "aac52992",
   "metadata": {},
   "outputs": [
    {
     "ename": "ValueError",
     "evalue": "Expected 2D array, got 1D array instead:\narray=[ 74.75  72.6   81.8   83.95  74.65  71.85  80.9   83.4   63.5   73.2\n  71.9   75.    73.1   79.    77.    68.85  75.95  74.15  73.8   75.9\n  76.85  80.9   79.9   89.2   82.    92.    86.6   80.5   86.    82.5\n  83.5   88.1   90.8   89.4  102.    94.5   91.   103.    80.    79.\n  83.5   76.    80.5   86.5   83.   107.1   94.3   94.5   79.7   79.3\n  89.8   83.8   85.2   75.5   78.4   78.6   87.8   86.3   85.5   83.7\n  77.6   84.9   79.8  108.3  119.6  119.9   96.5  105.5  105.   107.\n 107.   101.    97.   100.   108.   100.   103.   104.   106.   109.\n 103.5  110.   110.   112.   108.5  104.   111.   108.5  121.   109.\n  97.5  105.5   98.    94.5   97.   105.   106.    99.    91.   102.5\n 106.   109.1  115.   101.   100.1   93.3  101.8  107.9  108.5 ].\nReshape your data either using array.reshape(-1, 1) if your data has a single feature or array.reshape(1, -1) if it contains a single sample.",
     "output_type": "error",
     "traceback": [
      "\u001b[1;31m---------------------------------------------------------------------------\u001b[0m",
      "\u001b[1;31mValueError\u001b[0m                                Traceback (most recent call last)",
      "\u001b[1;32m~\\AppData\\Local\\Temp/ipykernel_38632/2610602574.py\u001b[0m in \u001b[0;36m<module>\u001b[1;34m\u001b[0m\n\u001b[1;32m----> 1\u001b[1;33m \u001b[0mmodel1\u001b[0m\u001b[1;33m.\u001b[0m\u001b[0mfit\u001b[0m\u001b[1;33m(\u001b[0m\u001b[0mx\u001b[0m\u001b[1;33m,\u001b[0m\u001b[0my\u001b[0m\u001b[1;33m)\u001b[0m \u001b[1;31m# It's throwing an error cause we have to supply a two dimensional array\u001b[0m\u001b[1;33m\u001b[0m\u001b[1;33m\u001b[0m\u001b[0m\n\u001b[0m",
      "\u001b[1;32m~\\anaconda3\\lib\\site-packages\\sklearn\\linear_model\\_base.py\u001b[0m in \u001b[0;36mfit\u001b[1;34m(self, X, y, sample_weight)\u001b[0m\n\u001b[0;32m    516\u001b[0m         \u001b[0maccept_sparse\u001b[0m \u001b[1;33m=\u001b[0m \u001b[1;32mFalse\u001b[0m \u001b[1;32mif\u001b[0m \u001b[0mself\u001b[0m\u001b[1;33m.\u001b[0m\u001b[0mpositive\u001b[0m \u001b[1;32melse\u001b[0m \u001b[1;33m[\u001b[0m\u001b[1;34m'csr'\u001b[0m\u001b[1;33m,\u001b[0m \u001b[1;34m'csc'\u001b[0m\u001b[1;33m,\u001b[0m \u001b[1;34m'coo'\u001b[0m\u001b[1;33m]\u001b[0m\u001b[1;33m\u001b[0m\u001b[1;33m\u001b[0m\u001b[0m\n\u001b[0;32m    517\u001b[0m \u001b[1;33m\u001b[0m\u001b[0m\n\u001b[1;32m--> 518\u001b[1;33m         X, y = self._validate_data(X, y, accept_sparse=accept_sparse,\n\u001b[0m\u001b[0;32m    519\u001b[0m                                    y_numeric=True, multi_output=True)\n\u001b[0;32m    520\u001b[0m \u001b[1;33m\u001b[0m\u001b[0m\n",
      "\u001b[1;32m~\\anaconda3\\lib\\site-packages\\sklearn\\base.py\u001b[0m in \u001b[0;36m_validate_data\u001b[1;34m(self, X, y, reset, validate_separately, **check_params)\u001b[0m\n\u001b[0;32m    431\u001b[0m                 \u001b[0my\u001b[0m \u001b[1;33m=\u001b[0m \u001b[0mcheck_array\u001b[0m\u001b[1;33m(\u001b[0m\u001b[0my\u001b[0m\u001b[1;33m,\u001b[0m \u001b[1;33m**\u001b[0m\u001b[0mcheck_y_params\u001b[0m\u001b[1;33m)\u001b[0m\u001b[1;33m\u001b[0m\u001b[1;33m\u001b[0m\u001b[0m\n\u001b[0;32m    432\u001b[0m             \u001b[1;32melse\u001b[0m\u001b[1;33m:\u001b[0m\u001b[1;33m\u001b[0m\u001b[1;33m\u001b[0m\u001b[0m\n\u001b[1;32m--> 433\u001b[1;33m                 \u001b[0mX\u001b[0m\u001b[1;33m,\u001b[0m \u001b[0my\u001b[0m \u001b[1;33m=\u001b[0m \u001b[0mcheck_X_y\u001b[0m\u001b[1;33m(\u001b[0m\u001b[0mX\u001b[0m\u001b[1;33m,\u001b[0m \u001b[0my\u001b[0m\u001b[1;33m,\u001b[0m \u001b[1;33m**\u001b[0m\u001b[0mcheck_params\u001b[0m\u001b[1;33m)\u001b[0m\u001b[1;33m\u001b[0m\u001b[1;33m\u001b[0m\u001b[0m\n\u001b[0m\u001b[0;32m    434\u001b[0m             \u001b[0mout\u001b[0m \u001b[1;33m=\u001b[0m \u001b[0mX\u001b[0m\u001b[1;33m,\u001b[0m \u001b[0my\u001b[0m\u001b[1;33m\u001b[0m\u001b[1;33m\u001b[0m\u001b[0m\n\u001b[0;32m    435\u001b[0m \u001b[1;33m\u001b[0m\u001b[0m\n",
      "\u001b[1;32m~\\anaconda3\\lib\\site-packages\\sklearn\\utils\\validation.py\u001b[0m in \u001b[0;36minner_f\u001b[1;34m(*args, **kwargs)\u001b[0m\n\u001b[0;32m     61\u001b[0m             \u001b[0mextra_args\u001b[0m \u001b[1;33m=\u001b[0m \u001b[0mlen\u001b[0m\u001b[1;33m(\u001b[0m\u001b[0margs\u001b[0m\u001b[1;33m)\u001b[0m \u001b[1;33m-\u001b[0m \u001b[0mlen\u001b[0m\u001b[1;33m(\u001b[0m\u001b[0mall_args\u001b[0m\u001b[1;33m)\u001b[0m\u001b[1;33m\u001b[0m\u001b[1;33m\u001b[0m\u001b[0m\n\u001b[0;32m     62\u001b[0m             \u001b[1;32mif\u001b[0m \u001b[0mextra_args\u001b[0m \u001b[1;33m<=\u001b[0m \u001b[1;36m0\u001b[0m\u001b[1;33m:\u001b[0m\u001b[1;33m\u001b[0m\u001b[1;33m\u001b[0m\u001b[0m\n\u001b[1;32m---> 63\u001b[1;33m                 \u001b[1;32mreturn\u001b[0m \u001b[0mf\u001b[0m\u001b[1;33m(\u001b[0m\u001b[1;33m*\u001b[0m\u001b[0margs\u001b[0m\u001b[1;33m,\u001b[0m \u001b[1;33m**\u001b[0m\u001b[0mkwargs\u001b[0m\u001b[1;33m)\u001b[0m\u001b[1;33m\u001b[0m\u001b[1;33m\u001b[0m\u001b[0m\n\u001b[0m\u001b[0;32m     64\u001b[0m \u001b[1;33m\u001b[0m\u001b[0m\n\u001b[0;32m     65\u001b[0m             \u001b[1;31m# extra_args > 0\u001b[0m\u001b[1;33m\u001b[0m\u001b[1;33m\u001b[0m\u001b[0m\n",
      "\u001b[1;32m~\\anaconda3\\lib\\site-packages\\sklearn\\utils\\validation.py\u001b[0m in \u001b[0;36mcheck_X_y\u001b[1;34m(X, y, accept_sparse, accept_large_sparse, dtype, order, copy, force_all_finite, ensure_2d, allow_nd, multi_output, ensure_min_samples, ensure_min_features, y_numeric, estimator)\u001b[0m\n\u001b[0;32m    869\u001b[0m         \u001b[1;32mraise\u001b[0m \u001b[0mValueError\u001b[0m\u001b[1;33m(\u001b[0m\u001b[1;34m\"y cannot be None\"\u001b[0m\u001b[1;33m)\u001b[0m\u001b[1;33m\u001b[0m\u001b[1;33m\u001b[0m\u001b[0m\n\u001b[0;32m    870\u001b[0m \u001b[1;33m\u001b[0m\u001b[0m\n\u001b[1;32m--> 871\u001b[1;33m     X = check_array(X, accept_sparse=accept_sparse,\n\u001b[0m\u001b[0;32m    872\u001b[0m                     \u001b[0maccept_large_sparse\u001b[0m\u001b[1;33m=\u001b[0m\u001b[0maccept_large_sparse\u001b[0m\u001b[1;33m,\u001b[0m\u001b[1;33m\u001b[0m\u001b[1;33m\u001b[0m\u001b[0m\n\u001b[0;32m    873\u001b[0m                     \u001b[0mdtype\u001b[0m\u001b[1;33m=\u001b[0m\u001b[0mdtype\u001b[0m\u001b[1;33m,\u001b[0m \u001b[0morder\u001b[0m\u001b[1;33m=\u001b[0m\u001b[0morder\u001b[0m\u001b[1;33m,\u001b[0m \u001b[0mcopy\u001b[0m\u001b[1;33m=\u001b[0m\u001b[0mcopy\u001b[0m\u001b[1;33m,\u001b[0m\u001b[1;33m\u001b[0m\u001b[1;33m\u001b[0m\u001b[0m\n",
      "\u001b[1;32m~\\anaconda3\\lib\\site-packages\\sklearn\\utils\\validation.py\u001b[0m in \u001b[0;36minner_f\u001b[1;34m(*args, **kwargs)\u001b[0m\n\u001b[0;32m     61\u001b[0m             \u001b[0mextra_args\u001b[0m \u001b[1;33m=\u001b[0m \u001b[0mlen\u001b[0m\u001b[1;33m(\u001b[0m\u001b[0margs\u001b[0m\u001b[1;33m)\u001b[0m \u001b[1;33m-\u001b[0m \u001b[0mlen\u001b[0m\u001b[1;33m(\u001b[0m\u001b[0mall_args\u001b[0m\u001b[1;33m)\u001b[0m\u001b[1;33m\u001b[0m\u001b[1;33m\u001b[0m\u001b[0m\n\u001b[0;32m     62\u001b[0m             \u001b[1;32mif\u001b[0m \u001b[0mextra_args\u001b[0m \u001b[1;33m<=\u001b[0m \u001b[1;36m0\u001b[0m\u001b[1;33m:\u001b[0m\u001b[1;33m\u001b[0m\u001b[1;33m\u001b[0m\u001b[0m\n\u001b[1;32m---> 63\u001b[1;33m                 \u001b[1;32mreturn\u001b[0m \u001b[0mf\u001b[0m\u001b[1;33m(\u001b[0m\u001b[1;33m*\u001b[0m\u001b[0margs\u001b[0m\u001b[1;33m,\u001b[0m \u001b[1;33m**\u001b[0m\u001b[0mkwargs\u001b[0m\u001b[1;33m)\u001b[0m\u001b[1;33m\u001b[0m\u001b[1;33m\u001b[0m\u001b[0m\n\u001b[0m\u001b[0;32m     64\u001b[0m \u001b[1;33m\u001b[0m\u001b[0m\n\u001b[0;32m     65\u001b[0m             \u001b[1;31m# extra_args > 0\u001b[0m\u001b[1;33m\u001b[0m\u001b[1;33m\u001b[0m\u001b[0m\n",
      "\u001b[1;32m~\\anaconda3\\lib\\site-packages\\sklearn\\utils\\validation.py\u001b[0m in \u001b[0;36mcheck_array\u001b[1;34m(array, accept_sparse, accept_large_sparse, dtype, order, copy, force_all_finite, ensure_2d, allow_nd, ensure_min_samples, ensure_min_features, estimator)\u001b[0m\n\u001b[0;32m    692\u001b[0m             \u001b[1;31m# If input is 1D raise error\u001b[0m\u001b[1;33m\u001b[0m\u001b[1;33m\u001b[0m\u001b[0m\n\u001b[0;32m    693\u001b[0m             \u001b[1;32mif\u001b[0m \u001b[0marray\u001b[0m\u001b[1;33m.\u001b[0m\u001b[0mndim\u001b[0m \u001b[1;33m==\u001b[0m \u001b[1;36m1\u001b[0m\u001b[1;33m:\u001b[0m\u001b[1;33m\u001b[0m\u001b[1;33m\u001b[0m\u001b[0m\n\u001b[1;32m--> 694\u001b[1;33m                 raise ValueError(\n\u001b[0m\u001b[0;32m    695\u001b[0m                     \u001b[1;34m\"Expected 2D array, got 1D array instead:\\narray={}.\\n\"\u001b[0m\u001b[1;33m\u001b[0m\u001b[1;33m\u001b[0m\u001b[0m\n\u001b[0;32m    696\u001b[0m                     \u001b[1;34m\"Reshape your data either using array.reshape(-1, 1) if \"\u001b[0m\u001b[1;33m\u001b[0m\u001b[1;33m\u001b[0m\u001b[0m\n",
      "\u001b[1;31mValueError\u001b[0m: Expected 2D array, got 1D array instead:\narray=[ 74.75  72.6   81.8   83.95  74.65  71.85  80.9   83.4   63.5   73.2\n  71.9   75.    73.1   79.    77.    68.85  75.95  74.15  73.8   75.9\n  76.85  80.9   79.9   89.2   82.    92.    86.6   80.5   86.    82.5\n  83.5   88.1   90.8   89.4  102.    94.5   91.   103.    80.    79.\n  83.5   76.    80.5   86.5   83.   107.1   94.3   94.5   79.7   79.3\n  89.8   83.8   85.2   75.5   78.4   78.6   87.8   86.3   85.5   83.7\n  77.6   84.9   79.8  108.3  119.6  119.9   96.5  105.5  105.   107.\n 107.   101.    97.   100.   108.   100.   103.   104.   106.   109.\n 103.5  110.   110.   112.   108.5  104.   111.   108.5  121.   109.\n  97.5  105.5   98.    94.5   97.   105.   106.    99.    91.   102.5\n 106.   109.1  115.   101.   100.1   93.3  101.8  107.9  108.5 ].\nReshape your data either using array.reshape(-1, 1) if your data has a single feature or array.reshape(1, -1) if it contains a single sample."
     ]
    }
   ],
   "source": [
    "model1.fit(x,y) # It's throwing an error cause we have to supply a two dimensional array"
   ]
  },
  {
   "cell_type": "code",
   "execution_count": 17,
   "id": "15a88b9c",
   "metadata": {},
   "outputs": [
    {
     "data": {
      "text/plain": [
       "array([[74.75],\n",
       "       [72.6 ],\n",
       "       [81.8 ],\n",
       "       [83.95],\n",
       "       [74.65]])"
      ]
     },
     "execution_count": 17,
     "metadata": {},
     "output_type": "execute_result"
    }
   ],
   "source": [
    "X = wcat.Waist.values.reshape(-1,1)\n",
    "Y = wcat.AT.values.reshape(-1,1)  # Target can and always be single, so actually no need to reshape\n",
    "X[0:5]"
   ]
  },
  {
   "cell_type": "code",
   "execution_count": 18,
   "id": "5742ff27",
   "metadata": {},
   "outputs": [
    {
     "data": {
      "text/plain": [
       "LinearRegression()"
      ]
     },
     "execution_count": 18,
     "metadata": {},
     "output_type": "execute_result"
    }
   ],
   "source": [
    "model1.fit(X,Y)"
   ]
  },
  {
   "cell_type": "code",
   "execution_count": 19,
   "id": "1a76930d",
   "metadata": {},
   "outputs": [],
   "source": [
    "pred1 = model1.predict(X)"
   ]
  },
  {
   "cell_type": "code",
   "execution_count": 20,
   "id": "5ede9bd6",
   "metadata": {},
   "outputs": [
    {
     "data": {
      "text/plain": [
       "0.6700368930528429"
      ]
     },
     "execution_count": 20,
     "metadata": {},
     "output_type": "execute_result"
    }
   ],
   "source": [
    "# Adjusted R-Squared value\n",
    "model1.score(X,Y)# 0.6700"
   ]
  },
  {
   "cell_type": "code",
   "execution_count": 21,
   "id": "2a76cb0b",
   "metadata": {},
   "outputs": [
    {
     "data": {
      "text/plain": [
       "32.760177495755144"
      ]
     },
     "execution_count": 21,
     "metadata": {},
     "output_type": "execute_result"
    }
   ],
   "source": [
    "rmse1 = np.sqrt(np.mean((pred1-Y)**2)) # 32.760\n",
    "rmse1"
   ]
  },
  {
   "cell_type": "code",
   "execution_count": 22,
   "id": "daa291de",
   "metadata": {},
   "outputs": [
    {
     "data": {
      "text/plain": [
       "array([[3.45885939]])"
      ]
     },
     "execution_count": 22,
     "metadata": {},
     "output_type": "execute_result"
    }
   ],
   "source": [
    "model1.coef_"
   ]
  },
  {
   "cell_type": "code",
   "execution_count": 23,
   "id": "a14d1ed9",
   "metadata": {},
   "outputs": [
    {
     "data": {
      "text/plain": [
       "array([-215.98148796])"
      ]
     },
     "execution_count": 23,
     "metadata": {},
     "output_type": "execute_result"
    }
   ],
   "source": [
    "model1.intercept_"
   ]
  },
  {
   "cell_type": "code",
   "execution_count": 24,
   "id": "2f6a4ad1",
   "metadata": {},
   "outputs": [
    {
     "data": {
      "text/plain": [
       "<matplotlib.collections.LineCollection at 0x232ba98f5b0>"
      ]
     },
     "execution_count": 24,
     "metadata": {},
     "output_type": "execute_result"
    },
    {
     "data": {
      "image/png": "[encoded data removed]",
      "text/plain": [
       "<Figure size 432x288 with 1 Axes>"
      ]
     },
     "metadata": {
      "needs_background": "light"
     },
     "output_type": "display_data"
    }
   ],
   "source": [
    "#### Residuals Vs Fitted values\n",
    "import matplotlib.pyplot as plt\n",
    "plt.scatter(pred1,(pred1-Y),c=\"r\")\n",
    "plt.hlines(y=0,xmin=0,xmax=200) "
   ]
  },
  {
   "cell_type": "code",
   "execution_count": 25,
   "id": "3c14ab3a",
   "metadata": {},
   "outputs": [
    {
     "data": {
      "text/plain": [
       "(array([ 3.,  8.,  6., 14., 33., 27., 14.,  2.,  0.,  2.]),\n",
       " array([-90.34239241, -70.57934363, -50.81629486, -31.05324609,\n",
       "        -11.29019731,   8.47285146,  28.23590023,  47.99894901,\n",
       "         67.76199778,  87.52504655, 107.28809533]),\n",
       " <BarContainer object of 10 artists>)"
      ]
     },
     "execution_count": 25,
     "metadata": {},
     "output_type": "execute_result"
    },
    {
     "data": {
      "image/png": "[encoded data removed]",
      "text/plain": [
       "<Figure size 432x288 with 1 Axes>"
      ]
     },
     "metadata": {
      "needs_background": "light"
     },
     "output_type": "display_data"
    }
   ],
   "source": [
    "# checking normal distribution for residual\n",
    "plt.hist(pred1-Y)"
   ]
  },
  {
   "cell_type": "code",
   "execution_count": 26,
   "id": "d81fde0b",
   "metadata": {},
   "outputs": [
    {
     "data": {
      "text/html": [
       "<div>\n",
       "<style scoped>\n",
       "    .dataframe tbody tr th:only-of-type {\n",
       "        vertical-align: middle;\n",
       "    }\n",
       "\n",
       "    .dataframe tbody tr th {\n",
       "        vertical-align: top;\n",
       "    }\n",
       "\n",
       "    .dataframe thead th {\n",
       "        text-align: right;\n",
       "    }\n",
       "</style>\n",
       "<table border=\"1\" class=\"dataframe\">\n",
       "  <thead>\n",
       "    <tr style=\"text-align: right;\">\n",
       "      <th></th>\n",
       "      <th>Waist</th>\n",
       "      <th>AT</th>\n",
       "      <th>Waist_sqrd</th>\n",
       "    </tr>\n",
       "  </thead>\n",
       "  <tbody>\n",
       "    <tr>\n",
       "      <th>0</th>\n",
       "      <td>74.75</td>\n",
       "      <td>25.72</td>\n",
       "      <td>5587.5625</td>\n",
       "    </tr>\n",
       "    <tr>\n",
       "      <th>1</th>\n",
       "      <td>72.60</td>\n",
       "      <td>25.89</td>\n",
       "      <td>5270.7600</td>\n",
       "    </tr>\n",
       "    <tr>\n",
       "      <th>2</th>\n",
       "      <td>81.80</td>\n",
       "      <td>42.60</td>\n",
       "      <td>6691.2400</td>\n",
       "    </tr>\n",
       "    <tr>\n",
       "      <th>3</th>\n",
       "      <td>83.95</td>\n",
       "      <td>42.80</td>\n",
       "      <td>7047.6025</td>\n",
       "    </tr>\n",
       "    <tr>\n",
       "      <th>4</th>\n",
       "      <td>74.65</td>\n",
       "      <td>29.84</td>\n",
       "      <td>5572.6225</td>\n",
       "    </tr>\n",
       "  </tbody>\n",
       "</table>\n",
       "</div>"
      ],
      "text/plain": [
       "   Waist     AT  Waist_sqrd\n",
       "0  74.75  25.72   5587.5625\n",
       "1  72.60  25.89   5270.7600\n",
       "2  81.80  42.60   6691.2400\n",
       "3  83.95  42.80   7047.6025\n",
       "4  74.65  29.84   5572.6225"
      ]
     },
     "execution_count": 26,
     "metadata": {},
     "output_type": "execute_result"
    }
   ],
   "source": [
    "### Fitting Quadratic Regression \n",
    "wcat[\"Waist_sqrd\"] = X*X\n",
    "wcat.head()"
   ]
  },
  {
   "cell_type": "code",
   "execution_count": 27,
   "id": "902150f6",
   "metadata": {},
   "outputs": [
    {
     "data": {
      "text/html": [
       "<div>\n",
       "<style scoped>\n",
       "    .dataframe tbody tr th:only-of-type {\n",
       "        vertical-align: middle;\n",
       "    }\n",
       "\n",
       "    .dataframe tbody tr th {\n",
       "        vertical-align: top;\n",
       "    }\n",
       "\n",
       "    .dataframe thead th {\n",
       "        text-align: right;\n",
       "    }\n",
       "</style>\n",
       "<table border=\"1\" class=\"dataframe\">\n",
       "  <thead>\n",
       "    <tr style=\"text-align: right;\">\n",
       "      <th></th>\n",
       "      <th>Waist</th>\n",
       "      <th>Waist_sqrd</th>\n",
       "    </tr>\n",
       "  </thead>\n",
       "  <tbody>\n",
       "    <tr>\n",
       "      <th>0</th>\n",
       "      <td>74.75</td>\n",
       "      <td>5587.5625</td>\n",
       "    </tr>\n",
       "    <tr>\n",
       "      <th>1</th>\n",
       "      <td>72.60</td>\n",
       "      <td>5270.7600</td>\n",
       "    </tr>\n",
       "    <tr>\n",
       "      <th>2</th>\n",
       "      <td>81.80</td>\n",
       "      <td>6691.2400</td>\n",
       "    </tr>\n",
       "    <tr>\n",
       "      <th>3</th>\n",
       "      <td>83.95</td>\n",
       "      <td>7047.6025</td>\n",
       "    </tr>\n",
       "    <tr>\n",
       "      <th>4</th>\n",
       "      <td>74.65</td>\n",
       "      <td>5572.6225</td>\n",
       "    </tr>\n",
       "  </tbody>\n",
       "</table>\n",
       "</div>"
      ],
      "text/plain": [
       "   Waist  Waist_sqrd\n",
       "0  74.75   5587.5625\n",
       "1  72.60   5270.7600\n",
       "2  81.80   6691.2400\n",
       "3  83.95   7047.6025\n",
       "4  74.65   5572.6225"
      ]
     },
     "execution_count": 27,
     "metadata": {},
     "output_type": "execute_result"
    }
   ],
   "source": [
    "X = wcat.iloc[:,[0,2]]\n",
    "Y = np.log(wcat.AT)\n",
    "X.head(5)\n",
    "#Y = wcat.AT"
   ]
  },
  {
   "cell_type": "code",
   "execution_count": 28,
   "id": "d6e9011b",
   "metadata": {},
   "outputs": [
    {
     "data": {
      "text/plain": [
       "LinearRegression()"
      ]
     },
     "execution_count": 28,
     "metadata": {},
     "output_type": "execute_result"
    }
   ],
   "source": [
    "model2 = LinearRegression()\n",
    "model2.fit(X,Y)                 #here we are not doing log Transformation on AT like we have done using OLS quadratic model"
   ]
  },
  {
   "cell_type": "code",
   "execution_count": 29,
   "id": "ac60d092",
   "metadata": {},
   "outputs": [],
   "source": [
    "pred2 = model2.predict(X)"
   ]
  },
  {
   "cell_type": "code",
   "execution_count": 30,
   "id": "ebe1780c",
   "metadata": {},
   "outputs": [],
   "source": [
    "pred2 = np.exp(pred2)"
   ]
  },
  {
   "cell_type": "code",
   "execution_count": 31,
   "id": "152d2a1b",
   "metadata": {},
   "outputs": [
    {
     "data": {
      "text/plain": [
       "0.7789817667713609"
      ]
     },
     "execution_count": 31,
     "metadata": {},
     "output_type": "execute_result"
    }
   ],
   "source": [
    "# Adjusted R-Squared value\n",
    "model2.score(X,Y)# 0.67791"
   ]
  },
  {
   "cell_type": "code",
   "execution_count": 32,
   "id": "2275092b",
   "metadata": {},
   "outputs": [
    {
     "data": {
      "text/plain": [
       "32.244447827740416"
      ]
     },
     "execution_count": 32,
     "metadata": {},
     "output_type": "execute_result"
    }
   ],
   "source": [
    "rmse2 = np.sqrt(np.mean((pred2-np.exp(Y))**2)) #32.366\n",
    "rmse2"
   ]
  },
  {
   "cell_type": "code",
   "execution_count": 33,
   "id": "3c847cdf",
   "metadata": {},
   "outputs": [
    {
     "data": {
      "text/plain": [
       "array([ 0.22886444, -0.00101629])"
      ]
     },
     "execution_count": 33,
     "metadata": {},
     "output_type": "execute_result"
    }
   ],
   "source": [
    "model2.coef_\n"
   ]
  },
  {
   "cell_type": "code",
   "execution_count": 35,
   "id": "41a49cb4",
   "metadata": {},
   "outputs": [
    {
     "data": {
      "text/plain": [
       "-7.824071382859394"
      ]
     },
     "execution_count": 35,
     "metadata": {},
     "output_type": "execute_result"
    }
   ],
   "source": [
    "model2.intercept_"
   ]
  },
  {
   "cell_type": "code",
   "execution_count": 36,
   "id": "73fa44e9",
   "metadata": {},
   "outputs": [
    {
     "data": {
      "text/plain": [
       "<matplotlib.collections.LineCollection at 0x232bc019e50>"
      ]
     },
     "execution_count": 36,
     "metadata": {},
     "output_type": "execute_result"
    },
    {
     "data": {
      "image/png": "[encoded data removed]",
      "text/plain": [
       "<Figure size 432x288 with 1 Axes>"
      ]
     },
     "metadata": {
      "needs_background": "light"
     },
     "output_type": "display_data"
    }
   ],
   "source": [
    "#### Residuals Vs Fitted values\n",
    "import matplotlib.pyplot as plt\n",
    "plt.scatter(pred2,(pred2-np.exp(Y)),c=\"r\")\n",
    "plt.hlines(y=0,xmin=0,xmax=200)  "
   ]
  },
  {
   "cell_type": "code",
   "execution_count": 37,
   "id": "46ffcb0a",
   "metadata": {},
   "outputs": [
    {
     "data": {
      "text/plain": [
       "(array([ 3.,  2.,  9.,  4.,  9., 28., 27., 17.,  7.,  3.]),\n",
       " array([-98.21607953, -81.91743061, -65.61878168, -49.32013275,\n",
       "        -33.02148382, -16.7228349 ,  -0.42418597,  15.87446296,\n",
       "         32.17311188,  48.47176081,  64.77040974]),\n",
       " <BarContainer object of 10 artists>)"
      ]
     },
     "execution_count": 37,
     "metadata": {},
     "output_type": "execute_result"
    },
    {
     "data": {
      "image/png": "[encoded data removed]",
      "text/plain": [
       "<Figure size 432x288 with 1 Axes>"
      ]
     },
     "metadata": {
      "needs_background": "light"
     },
     "output_type": "display_data"
    }
   ],
   "source": [
    "# Checking normal distribution\n",
    "plt.hist(pred2-np.exp(Y))"
   ]
  },
  {
   "cell_type": "markdown",
   "id": "1fcda89a",
   "metadata": {},
   "source": [
    "Now you can work on other models taking these examples"
   ]
  },
  {
   "cell_type": "code",
   "execution_count": 38,
   "id": "5eb5774e",
   "metadata": {},
   "outputs": [
    {
     "data": {
      "text/plain": [
       "((array([-2.49269012, -2.16005351, -1.96810538, -1.829376  , -1.71891041,\n",
       "         -1.62614848, -1.54558238, -1.4739582 , -1.40918581, -1.34983904,\n",
       "         -1.2948992 , -1.24361202, -1.19540258, -1.14982207, -1.10651298,\n",
       "         -1.06518563, -1.02560179, -0.98756301, -0.95090206, -0.9154766 ,\n",
       "         -0.88116436, -0.84785944, -0.81546946, -0.78391323, -0.75311899,\n",
       "         -0.72302293, -0.69356797, -0.66470285, -0.63638125, -0.60856118,\n",
       "         -0.58120436, -0.55427579, -0.52774332, -0.5015773 , -0.47575031,\n",
       "         -0.45023686, -0.42501321, -0.40005714, -0.3753478 , -0.35086557,\n",
       "         -0.32659187, -0.30250912, -0.27860058, -0.25485026, -0.23124286,\n",
       "         -0.20776364, -0.18439842, -0.16113345, -0.13795538, -0.1148512 ,\n",
       "         -0.09180817, -0.06881379, -0.04585574, -0.02292185,  0.        ,\n",
       "          0.02292185,  0.04585574,  0.06881379,  0.09180817,  0.1148512 ,\n",
       "          0.13795538,  0.16113345,  0.18439842,  0.20776364,  0.23124286,\n",
       "          0.25485026,  0.27860058,  0.30250912,  0.32659187,  0.35086557,\n",
       "          0.3753478 ,  0.40005714,  0.42501321,  0.45023686,  0.47575031,\n",
       "          0.5015773 ,  0.52774332,  0.55427579,  0.58120436,  0.60856118,\n",
       "          0.63638125,  0.66470285,  0.69356797,  0.72302293,  0.75311899,\n",
       "          0.78391323,  0.81546946,  0.84785944,  0.88116436,  0.9154766 ,\n",
       "          0.95090206,  0.98756301,  1.02560179,  1.06518563,  1.10651298,\n",
       "          1.14982207,  1.19540258,  1.24361202,  1.2948992 ,  1.34983904,\n",
       "          1.40918581,  1.4739582 ,  1.54558238,  1.62614848,  1.71891041,\n",
       "          1.829376  ,  1.96810538,  2.16005351,  2.49269012]),\n",
       "  array([-98.21607953, -96.21935987, -90.12118196, -76.90818318,\n",
       "         -73.24541994, -62.64858544, -61.07207998, -59.45788   ,\n",
       "         -55.82023728, -54.00423749, -53.79432475, -52.96509575,\n",
       "         -51.83399618, -50.44561603, -39.90614882, -37.70989068,\n",
       "         -36.35768877, -33.23117706, -31.7969689 , -30.18294704,\n",
       "         -28.95007802, -27.96509575, -27.41291069, -22.83901129,\n",
       "         -22.80983615, -20.46010049, -18.0075935 , -16.44561603,\n",
       "         -13.84217498, -13.41901292, -13.23959026, -11.631063  ,\n",
       "         -10.07248943,  -9.9470327 ,  -9.44200797,  -9.19398591,\n",
       "          -8.83399618,  -7.9470327 ,  -7.58592633,  -6.42687596,\n",
       "          -6.36879012,  -5.9044478 ,  -5.85687596,  -5.7867346 ,\n",
       "          -5.40474403,  -4.43233468,  -4.10309662,  -3.96509575,\n",
       "          -3.61399849,  -3.50267798,  -3.31260313,  -2.95841983,\n",
       "          -2.16751782,  -2.04747545,  -1.94138801,  -0.35420487,\n",
       "          -0.12118196,   0.34562125,   0.97558976,   1.69750674,\n",
       "           2.17086177,   3.62532553,   4.00422243,   4.46992198,\n",
       "           5.13656979,   5.21973062,   6.3373585 ,   6.43465795,\n",
       "           6.6571765 ,   7.08191067,   7.49459737,   7.59525597,\n",
       "           7.71980743,  10.55599919,  10.81748752,  11.05940011,\n",
       "          11.2132654 ,  12.54526325,  12.98061027,  13.69241605,\n",
       "          14.60983957,  15.06103572,  16.55413188,  17.54576867,\n",
       "          17.7756581 ,  18.36394508,  18.64231123,  19.29010932,\n",
       "          23.15782502,  23.71781287,  24.89268533,  25.68813188,\n",
       "          27.72413188,  28.83248218,  30.3194846 ,  30.62532553,\n",
       "          31.77058319,  32.06717982,  32.1029673 ,  33.32911019,\n",
       "          34.60983957,  34.93275702,  36.29450824,  38.87881804,\n",
       "          43.38375217,  45.81295734,  51.58781287,  59.62669908,\n",
       "          64.77040974])),\n",
       " (31.83640616244667, -4.2426741883217, 0.9774440158893499))"
      ]
     },
     "execution_count": 38,
     "metadata": {},
     "output_type": "execute_result"
    },
    {
     "data": {
      "image/png": "[encoded data removed]",
      "text/plain": [
       "<Figure size 432x288 with 1 Axes>"
      ]
     },
     "metadata": {
      "needs_background": "light"
     },
     "output_type": "display_data"
    }
   ],
   "source": [
    "import pylab\n",
    "import scipy.stats as st\n",
    "st.probplot(pred2-np.exp(Y),dist=\"norm\",plot=pylab)"
   ]
  },
  {
   "cell_type": "code",
   "execution_count": null,
   "id": "cfdb11de",
   "metadata": {},
   "outputs": [],
   "source": []
  }
 ],
 "metadata": {
  "kernelspec": {
   "display_name": "Python 3 (ipykernel)",
   "language": "python",
   "name": "python3"
  },
  "language_info": {
   "codemirror_mode": {
    "name": "ipython",
    "version": 3
   },
   "file_extension": ".py",
   "mimetype": "text/x-python",
   "name": "python",
   "nbconvert_exporter": "python",
   "pygments_lexer": "ipython3",
   "version": "3.9.7"
  }
 },
 "nbformat": 4,
 "nbformat_minor": 5
}
