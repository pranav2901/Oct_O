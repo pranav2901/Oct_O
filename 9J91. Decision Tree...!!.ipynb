{
 "cells": [
  {
   "cell_type": "code",
   "execution_count": 1,
   "id": "c96785f0",
   "metadata": {},
   "outputs": [],
   "source": [
    "# Importing the required packages\n",
    "import numpy as np\n",
    "import pandas as pd\n",
    "from sklearn.metrics import confusion_matrix\n",
    "from sklearn.model_selection import train_test_split\n",
    "from sklearn.tree import DecisionTreeClassifier\n",
    "from sklearn.metrics import accuracy_score\n",
    "from sklearn.metrics import classification_report\n",
    "import seaborn as sns"
   ]
  },
  {
   "cell_type": "markdown",
   "id": "c608b99c",
   "metadata": {},
   "source": [
    "# Let's understand the data which is available over following link\n",
    "\n",
    "https://archive.ics.uci.edu/ml/machine-learning-databases/balance-scale/balance-scale.names"
   ]
  },
  {
   "cell_type": "markdown",
   "id": "514ff623",
   "metadata": {},
   "source": [
    "## Source Information: \n",
    "    (a) Source: Generated to model psychological experiments reported\n",
    "\t\tby Siegler, R. S. (1976).  Three Aspects of Cognitive\n",
    "\t\tDevelopment.  Cognitive Psychology, 8, 481-520.\n",
    "    (b) Donor: Tim Hume (hume@ics.uci.edu)\n",
    "    (c) Date: 22 April 1994\n",
    "\n",
    "### 1. Relevant Information: \n",
    "    This data set was generated to model psychological\n",
    "    experimental results.  Each example is classified as having the\n",
    "    balance scale tip to the right, tip to the left, or be\n",
    "    balanced.  The attributes are the left weight, the left\n",
    "    distance, the right weight, and the right distance.  The\n",
    "    correct way to find the class is the greater of \n",
    "    (left-distance * left-weight) and (right-distance *\n",
    "    right-weight).  If they are equal, it is balanced.\n",
    "\n",
    "### 2. Number of Instances: 625 (49 balanced, 288 left, 288 right)\n",
    "\n",
    "### 3. Number of Attributes: 4 (numeric) + class name = 5\n",
    "\n",
    "### 4.. Attribute Information:\n",
    "\n",
    "    1. Class Name: 3 (L, B, R)\n",
    "    2. Left-Weight: 5 (1, 2, 3, 4, 5)\n",
    "    3. Left-Distance: 5 (1, 2, 3, 4, 5)\n",
    "    4. Right-Weight: 5 (1, 2, 3, 4, 5)\n",
    "    5. Right-Distance: 5 (1, 2, 3, 4, 5)\n",
    "\n",
    "### 5. Missing Attribute Values: \n",
    "    none\n",
    "\n",
    "### 6. Class Distribution: \n",
    "\n",
    "   1. 46.08 percent are L\n",
    "   2. 07.84 percent are B\n",
    "   3. 46.08 percent are R"
   ]
  },
  {
   "cell_type": "code",
   "execution_count": 2,
   "id": "3a122863",
   "metadata": {},
   "outputs": [],
   "source": [
    "# Function importing Dataset\n",
    "def importdata():\n",
    "    \n",
    "    # For Balance dataset from cloud\n",
    "    #balance_data = pd.read_csv('https://archive.ics.uci.edu/ml/machine-learning-'+'databases/balance-scale/balance-scale.data',\n",
    "    #sep= ',', header = None) # Original data have been downloaded from this link & \n",
    "                             # then have been assigned the column name, \n",
    "                            #this work done code is available ata the bottom of this code\n",
    "    \n",
    "    # Now importing the same data from our local machine\n",
    "    \n",
    "    #balance_data = pd.read_csv('Datasets\\scalebalance_data.csv')\n",
    "    \n",
    "    # For Iris dataset from my local system\n",
    "    \n",
    "    balance_data = pd.read_csv('Datasets\\iris.csv')\n",
    "    \n",
    "    # Printing the dataswet shape\n",
    "    print (\"Dataset Length: \", len(balance_data))\n",
    "    print (\"Dataset Shape: \", balance_data.shape)\n",
    "    \n",
    "    # Printing the dataset obseravtions\n",
    "    print (\"Dataset: \",balance_data.head())\n",
    "    return balance_data"
   ]
  },
  {
   "cell_type": "code",
   "execution_count": 3,
   "id": "b4fdc5f8",
   "metadata": {},
   "outputs": [],
   "source": [
    "# Function to split the dataset\n",
    "def splitdataset(balance_data):\n",
    "\n",
    "    # Separating the target variable\n",
    "    #X = balance_data.values[:, 1:5]\n",
    "    #Y = balance_data.values[:, 0]\n",
    "\n",
    "    X = balance_data.values[:, 0:4]\n",
    "    Y = balance_data.values[:, 4]\n",
    "    \n",
    "    # Splitting the dataset into train and test\n",
    "    X_train, X_test, y_train, y_test = train_test_split(\n",
    "    X, Y, test_size = 0.25, random_state = 100)\n",
    "    \n",
    "    return X, Y, X_train, X_test, y_train, y_test"
   ]
  },
  {
   "cell_type": "code",
   "execution_count": 4,
   "id": "bc704a2d",
   "metadata": {},
   "outputs": [],
   "source": [
    "# Function to perform training with giniIndex.\n",
    "\n",
    "def train_using_gini(X_train, X_test, y_train):\n",
    "\n",
    "    # Creating the classifier object\n",
    "    clf_gini = DecisionTreeClassifier(criterion = \"gini\",\n",
    "            random_state = 100, max_depth=3, min_samples_leaf=5)\n",
    "\n",
    "    # Performing training\n",
    "    clf_gini.fit(X_train, y_train)\n",
    "    \n",
    "    return clf_gini"
   ]
  },
  {
   "cell_type": "markdown",
   "id": "5b076ccb",
   "metadata": {},
   "source": [
    "### Gini index:\n",
    "    \n",
    "    1. Gini Index is a metric to measure how often a randomly chosen element would be incorrectly identified.\n",
    "    2. It means an attribute with lower gini index should be preferred.\n",
    "    3. Sklearn supports “gini” criteria for Gini Index and by default, it takes “gini” value."
   ]
  },
  {
   "cell_type": "markdown",
   "id": "5488f0f2",
   "metadata": {},
   "source": [
    "### Entropy:\n",
    "\n",
    "    1. Entropy is the measure of uncertainty of a random variable, it characterizes the impurity of an arbitrary collection of examples. The higher the entropy the more the information content.\n",
    "\n",
    "    2. The entropy typically changes when we use a node in a decision tree to partition the training instances into smaller subsets. Information gain is a measure of this change in entropy.\n",
    "\n",
    "    3. Sklearn supports “entropy” criteria for Information Gain and if we want to use Information Gain method in sklearn then we have to mention it explicitly."
   ]
  },
  {
   "cell_type": "code",
   "execution_count": 5,
   "id": "4626bf49",
   "metadata": {},
   "outputs": [],
   "source": [
    "# Function to perform training with entropy.\n",
    "def tarin_using_entropy(X_train, X_test, y_train):\n",
    "\n",
    "    # Decision tree with entropy\n",
    "    clf_entropy = DecisionTreeClassifier(\n",
    "            criterion = \"entropy\", random_state = 100,\n",
    "            max_depth = 3, min_samples_leaf = 5)\n",
    "\n",
    "    # Performing training\n",
    "    clf_entropy.fit(X_train, y_train)\n",
    "    \n",
    "    return clf_entropy"
   ]
  },
  {
   "cell_type": "code",
   "execution_count": 6,
   "id": "01e621b9",
   "metadata": {},
   "outputs": [],
   "source": [
    "# Function to make predictions\n",
    "def prediction(X_test, clf_object):\n",
    "\n",
    "    # Predicton on test with giniIndex\n",
    "    y_pred = clf_object.predict(X_test)\n",
    "    print(\"Predicted values:\")\n",
    "    print(y_pred)\n",
    "    return y_pred"
   ]
  },
  {
   "cell_type": "markdown",
   "id": "faf7d28a",
   "metadata": {},
   "source": [
    "### Accuracy score\n",
    "\n",
    "Accuracy score is used to calculate the accuracy of the trained classifier.\n",
    "\n",
    "### Confusion Matrix\n",
    "\n",
    "Confusion Matrix is used to understand the trained classifier behavior over the test dataset or validate dataset."
   ]
  },
  {
   "cell_type": "code",
   "execution_count": 7,
   "id": "2e15b3bb",
   "metadata": {},
   "outputs": [],
   "source": [
    "# Function to calculate accuracy\n",
    "def cal_accuracy(y_test, y_pred):\n",
    "    \n",
    "    print(\"Confusion Matrix: \\n \",\n",
    "        confusion_matrix(y_test, y_pred))\n",
    "    \n",
    "    print (\"Accuracy : \\n \",\n",
    "    accuracy_score(y_test,y_pred)*100)\n",
    "    \n",
    "    print(\"Report : \",\n",
    "    classification_report(y_test, y_pred))\n",
    "    \n",
    "    Heatmap(y_test, y_pred)"
   ]
  },
  {
   "cell_type": "code",
   "execution_count": 8,
   "id": "daad0483",
   "metadata": {},
   "outputs": [],
   "source": [
    "def Heatmap (y_test, y_pred):\n",
    "    \n",
    "    sns.heatmap(confusion_matrix(y_test, y_pred), annot = True)\n",
    "    "
   ]
  },
  {
   "cell_type": "code",
   "execution_count": 9,
   "id": "cd228fe9",
   "metadata": {},
   "outputs": [],
   "source": [
    "# Driver code\n",
    "def main():\n",
    "    \n",
    "    # Building Phase\n",
    "    data = importdata()\n",
    "    print('\\n')\n",
    "    print(data)\n",
    "    X, Y, X_train, X_test, y_train, y_test = splitdataset(data)\n",
    "    clf_gini = train_using_gini(X_train, X_test, y_train)\n",
    "    clf_entropy = tarin_using_entropy(X_train, X_test, y_train)\n",
    "        \n",
    "    # Operational Phase\n",
    "    print(\"Results Using Gini Index:\")\n",
    "    \n",
    "    # Prediction using gini\n",
    "    y_pred_gini = prediction(X_test, clf_gini)\n",
    "    cal_accuracy(y_test, y_pred_gini)\n",
    "    \n",
    "    print(\"Results Using Entropy:\")\n",
    "    # Prediction using entropy\n",
    "    y_pred_entropy = prediction(X_test, clf_entropy)\n",
    "    cal_accuracy(y_test, y_pred_entropy)\n",
    "    "
   ]
  },
  {
   "cell_type": "code",
   "execution_count": 10,
   "id": "34fb5dc9",
   "metadata": {
    "scrolled": false
   },
   "outputs": [
    {
     "name": "stdout",
     "output_type": "stream",
     "text": [
      "Dataset Length:  150\n",
      "Dataset Shape:  (150, 5)\n",
      "Dataset:     Sepal.Length  Sepal.Width  Petal.Length  Petal.Width Species\n",
      "0           5.1          3.5           1.4          0.2  setosa\n",
      "1           4.9          3.0           1.4          0.2  setosa\n",
      "2           4.7          3.2           1.3          0.2  setosa\n",
      "3           4.6          3.1           1.5          0.2  setosa\n",
      "4           5.0          3.6           1.4          0.2  setosa\n",
      "\n",
      "\n",
      "     Sepal.Length  Sepal.Width  Petal.Length  Petal.Width    Species\n",
      "0             5.1          3.5           1.4          0.2     setosa\n",
      "1             4.9          3.0           1.4          0.2     setosa\n",
      "2             4.7          3.2           1.3          0.2     setosa\n",
      "3             4.6          3.1           1.5          0.2     setosa\n",
      "4             5.0          3.6           1.4          0.2     setosa\n",
      "..            ...          ...           ...          ...        ...\n",
      "145           6.7          3.0           5.2          2.3  virginica\n",
      "146           6.3          2.5           5.0          1.9  virginica\n",
      "147           6.5          3.0           5.2          2.0  virginica\n",
      "148           6.2          3.4           5.4          2.3  virginica\n",
      "149           5.9          3.0           5.1          1.8  virginica\n",
      "\n",
      "[150 rows x 5 columns]\n",
      "Results Using Gini Index:\n",
      "Predicted values:\n",
      "['virginica' 'setosa' 'virginica' 'setosa' 'virginica' 'virginica'\n",
      " 'setosa' 'setosa' 'virginica' 'setosa' 'setosa' 'virginica' 'setosa'\n",
      " 'setosa' 'virginica' 'versicolor' 'versicolor' 'virginica' 'virginica'\n",
      " 'virginica' 'virginica' 'setosa' 'virginica' 'setosa' 'versicolor'\n",
      " 'virginica' 'versicolor' 'setosa' 'versicolor' 'virginica' 'versicolor'\n",
      " 'versicolor' 'versicolor' 'setosa' 'setosa' 'versicolor' 'setosa'\n",
      " 'versicolor']\n",
      "Confusion Matrix: \n",
      "  [[14  0  0]\n",
      " [ 0  9  1]\n",
      " [ 0  1 13]]\n",
      "Accuracy : \n",
      "  94.73684210526315\n",
      "Report :                precision    recall  f1-score   support\n",
      "\n",
      "      setosa       1.00      1.00      1.00        14\n",
      "  versicolor       0.90      0.90      0.90        10\n",
      "   virginica       0.93      0.93      0.93        14\n",
      "\n",
      "    accuracy                           0.95        38\n",
      "   macro avg       0.94      0.94      0.94        38\n",
      "weighted avg       0.95      0.95      0.95        38\n",
      "\n",
      "Results Using Entropy:\n",
      "Predicted values:\n",
      "['virginica' 'setosa' 'virginica' 'setosa' 'virginica' 'virginica'\n",
      " 'setosa' 'setosa' 'virginica' 'setosa' 'setosa' 'virginica' 'setosa'\n",
      " 'setosa' 'virginica' 'versicolor' 'versicolor' 'virginica' 'virginica'\n",
      " 'virginica' 'virginica' 'setosa' 'virginica' 'setosa' 'versicolor'\n",
      " 'virginica' 'versicolor' 'setosa' 'versicolor' 'virginica' 'versicolor'\n",
      " 'versicolor' 'versicolor' 'setosa' 'setosa' 'versicolor' 'setosa'\n",
      " 'versicolor']\n",
      "Confusion Matrix: \n",
      "  [[14  0  0]\n",
      " [ 0  9  1]\n",
      " [ 0  1 13]]\n",
      "Accuracy : \n",
      "  94.73684210526315\n",
      "Report :                precision    recall  f1-score   support\n",
      "\n",
      "      setosa       1.00      1.00      1.00        14\n",
      "  versicolor       0.90      0.90      0.90        10\n",
      "   virginica       0.93      0.93      0.93        14\n",
      "\n",
      "    accuracy                           0.95        38\n",
      "   macro avg       0.94      0.94      0.94        38\n",
      "weighted avg       0.95      0.95      0.95        38\n",
      "\n"
     ]
    },
    {
     "data": {
      "image/png": "[encoded data removed]",
      "text/plain": [
       "<Figure size 432x288 with 3 Axes>"
      ]
     },
     "metadata": {
      "needs_background": "light"
     },
     "output_type": "display_data"
    }
   ],
   "source": [
    "# Calling main function\n",
    "if __name__==\"__main__\":\n",
    "    main()"
   ]
  },
  {
   "cell_type": "code",
   "execution_count": 11,
   "id": "424ab0c5",
   "metadata": {},
   "outputs": [],
   "source": [
    "# Importing of the original data from source and storing it in our system\n",
    "\n",
    "#import pandas as pd\n",
    "#balance_data = pd.read_csv('https://archive.ics.uci.edu/ml/machine-learning-'+'databases/balance-scale/balance-scale.data',\n",
    "#    sep= ',', header = None)\n",
    "\n",
    "#balance_data.columns =['Class Name', 'Left-Weight', 'Left-Distance', 'Right-Weight', 'Right-Distance']"
   ]
  },
  {
   "cell_type": "code",
   "execution_count": 12,
   "id": "dfd79927",
   "metadata": {},
   "outputs": [],
   "source": [
    "#balance_data.head(5)"
   ]
  },
  {
   "cell_type": "code",
   "execution_count": 13,
   "id": "39847d51",
   "metadata": {},
   "outputs": [],
   "source": [
    "#balance_data.to_csv('Datasets\\scalebalance_data.csv', index = False)"
   ]
  },
  {
   "cell_type": "markdown",
   "id": "f3430364",
   "metadata": {},
   "source": [
    "#### Drawback of decision tree is, it yeilds overfitting model and the Solution is ensemble models (Group of models) = Random Forest !!"
   ]
  },
  {
   "cell_type": "code",
   "execution_count": null,
   "id": "5e41703f",
   "metadata": {},
   "outputs": [],
   "source": []
  }
 ],
 "metadata": {
  "kernelspec": {
   "display_name": "Python 3 (ipykernel)",
   "language": "python",
   "name": "python3"
  },
  "language_info": {
   "codemirror_mode": {
    "name": "ipython",
    "version": 3
   },
   "file_extension": ".py",
   "mimetype": "text/x-python",
   "name": "python",
   "nbconvert_exporter": "python",
   "pygments_lexer": "ipython3",
   "version": "3.9.7"
  }
 },
 "nbformat": 4,
 "nbformat_minor": 5
}
