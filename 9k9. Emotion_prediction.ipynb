{
 "cells": [
  {
   "cell_type": "markdown",
   "metadata": {},
   "source": [
    "### Step 1: Importing the required libraries"
   ]
  },
  {
   "cell_type": "markdown",
   "metadata": {},
   "source": [
    "Dataset and other files available on following link:\n",
    "    \n",
    "https://drive.google.com/drive/folders/1KCwEOqHnPWse4rDp7QkI6hCN4Jay91zM"
   ]
  },
  {
   "cell_type": "code",
   "execution_count": 1,
   "metadata": {
    "colab": {
     "base_uri": "https://localhost:8080/"
    },
    "id": "DGxWgt8Uj4uC",
    "outputId": "93410913-5d60-4f9c-a62b-1abfcf4b52ad"
   },
   "outputs": [
    {
     "name": "stderr",
     "output_type": "stream",
     "text": [
      "[nltk_data] Downloading package punkt_tab to\n",
      "[nltk_data]     C:\\Users\\Pranav\\AppData\\Roaming\\nltk_data...\n",
      "[nltk_data]   Unzipping tokenizers\\punkt_tab.zip.\n"
     ]
    },
    {
     "data": {
      "text/plain": [
       "True"
      ]
     },
     "execution_count": 1,
     "metadata": {},
     "output_type": "execute_result"
    }
   ],
   "source": [
    "# Importing the required libraries\n",
    "import keras\n",
    "import numpy as np\n",
    "from keras.models import Sequential,Model\n",
    "from keras.layers import Dense,Bidirectional\n",
    "from nltk.tokenize import word_tokenize,sent_tokenize\n",
    "from keras.layers import *\n",
    "from sklearn.model_selection import cross_val_score\n",
    "import nltk\n",
    "import pandas as pd\n",
    "#nltk.download()\n",
    "nltk.download('punkt_tab')"
   ]
  },
  {
   "cell_type": "markdown",
   "metadata": {},
   "source": [
    "### Step 2: Load the dataset\n",
    "\n",
    "The next step is to load the dataset from our machine and preprocess it. In the dataset, there are some rows that contain -‘No response’. This sentence is completely useless for us. So, we will drop such rows."
   ]
  },
  {
   "cell_type": "code",
   "execution_count": 2,
   "metadata": {
    "id": "TjyWc6a-RxS_"
   },
   "outputs": [
    {
     "name": "stdout",
     "output_type": "stream",
     "text": [
      "         0                                                  1\n",
      "0      joy  [ On days when I feel close to my partner and ...\n",
      "1     fear  Every time I imagine that someone I love or I ...\n",
      "2    anger  When I had been obviously unjustly treated and...\n",
      "3  sadness  When I think about the short time that we live...\n",
      "4  disgust  At a gathering I found myself involuntarily si...\n",
      "5    shame  When I realized that I was directing the feeli...\n",
      "6    guilt  I feel guilty when when I realize that I consi...\n",
      "7      joy  After my girlfriend had taken her exam we went...\n",
      "8     fear  When, for the first time I realized the meanin...\n",
      "9    anger  When a car is overtaking another and I am forc...\n",
      "(7575, 2)\n"
     ]
    }
   ],
   "source": [
    "df=pd.read_csv('Datasets/isear.csv',header=None)\n",
    "# The isear.csv contains rows with value 'No response'\n",
    "# We need to remove such rows\n",
    "df.drop(df[df[1] == '[ No response.]'].index, inplace = True)\n",
    "print(df.head(10))\n",
    "print(df.shape)"
   ]
  },
  {
   "cell_type": "markdown",
   "metadata": {},
   "source": [
    "### Step 3:  Tokenization\n",
    "    \n",
    "Apply a word tokenizer to convert each sentence into a list of words. Example: If there is a sentence- ‘I am happy’. Afterward tokenizing it will get converted into a list [‘I’,’am’, ‘happy’]."
   ]
  },
  {
   "cell_type": "code",
   "execution_count": 3,
   "metadata": {},
   "outputs": [
    {
     "data": {
      "text/plain": [
       "'[ On days when I feel close to my partner and other friends.  \\nWhen I feel at peace with myself and also experience a close \\ncontact with people whom I regard greatly.]'"
      ]
     },
     "execution_count": 3,
     "metadata": {},
     "output_type": "execute_result"
    }
   ],
   "source": [
    "feel_arr=df[1] #First column of df\n",
    "#feel_arr\n",
    "feel_arr[0] #first record in feel_arr"
   ]
  },
  {
   "cell_type": "code",
   "execution_count": 4,
   "metadata": {},
   "outputs": [],
   "source": [
    "feel_arr = [word_tokenize(sent) for sent in feel_arr]"
   ]
  },
  {
   "cell_type": "code",
   "execution_count": 32,
   "metadata": {},
   "outputs": [
    {
     "name": "stdout",
     "output_type": "stream",
     "text": [
      "['When', ',', 'for', 'the', 'first', 'time', 'I', 'realized', 'the', 'meaning', 'of', 'death', '.']\n"
     ]
    }
   ],
   "source": [
    "print(feel_arr[8])"
   ]
  },
  {
   "cell_type": "code",
   "execution_count": 6,
   "metadata": {},
   "outputs": [],
   "source": [
    "# The feel_arr will store all the sentences\n",
    "# i.e feel_arr is the list of all sentences\n",
    "#feel_arr=df[1]\n",
    "\n",
    "# Each sentence in feel_arr is tokenized by the help of work tokenizer.\n",
    "# If I have a sentence - 'I am happy'.\n",
    "# After word tokenizing it will convert into- ['I','am','happy']\n",
    "#feel_arr = [word_tokenize(sent) for sent in feel_arr]\n",
    "#print(feel_arr[5]) #5th record in feel_arr"
   ]
  },
  {
   "cell_type": "markdown",
   "metadata": {},
   "source": [
    "### Step 4: Padding\n",
    "\n",
    "The length of each sentence is different. To pass it through the model, the length of each sentence should be equal. By visualizing the dataset, we can see that the length of the sentence in the dataset is not greater than 100 words. So, now we will convert every sentence to 100 words. For this, we will take the help of padding."
   ]
  },
  {
   "cell_type": "code",
   "execution_count": 5,
   "metadata": {
    "id": "dnFKkytulXf6"
   },
   "outputs": [
    {
     "name": "stdout",
     "output_type": "stream",
     "text": [
      "['[', 'On', 'days', 'when', 'I', 'feel', 'close', 'to', 'my', 'partner', 'and', 'other', 'friends', '.', 'When', 'I', 'feel', 'at', 'peace', 'with', 'myself', 'and', 'also', 'experience', 'a', 'close', 'contact', 'with', 'people', 'whom', 'I', 'regard', 'greatly', '.', ']', '<pad>', '<pad>', '<pad>', '<pad>', '<pad>', '<pad>', '<pad>', '<pad>', '<pad>', '<pad>', '<pad>', '<pad>', '<pad>', '<pad>', '<pad>', '<pad>', '<pad>', '<pad>', '<pad>', '<pad>', '<pad>', '<pad>', '<pad>', '<pad>', '<pad>', '<pad>', '<pad>', '<pad>', '<pad>', '<pad>', '<pad>', '<pad>', '<pad>', '<pad>', '<pad>', '<pad>', '<pad>', '<pad>', '<pad>', '<pad>', '<pad>', '<pad>', '<pad>', '<pad>', '<pad>', '<pad>', '<pad>', '<pad>', '<pad>', '<pad>', '<pad>', '<pad>', '<pad>', '<pad>', '<pad>', '<pad>', '<pad>', '<pad>', '<pad>', '<pad>', '<pad>', '<pad>', '<pad>', '<pad>', '<pad>']\n"
     ]
    }
   ],
   "source": [
    "# Defined a function padd in which each sentence length\n",
    "# is fixed to 100.\n",
    "# If length is less than 100 , then\n",
    "# the word- '<padd>' is append\n",
    "def padd(arr):\n",
    "    for i in range(100-len(arr)):\n",
    "        arr.append('<pad>')\n",
    "    return arr[:100]\n",
    "\n",
    "# call the padd function for each sentence in feel_arr\n",
    "for i in range(len(feel_arr)):\n",
    "    feel_arr[i]=padd(feel_arr[i])\n",
    "\n",
    "print(feel_arr[0]) #for the first record, rest of the places have been added with <padd> till 100 length"
   ]
  },
  {
   "cell_type": "markdown",
   "metadata": {
    "id": "jzDaNrwCUc-I"
   },
   "source": [
    "#### Step 5: Word embedding using the glove \n",
    "    \n",
    "Now, each word needs to be embedded in some numeric representation, as the model understands only numeric digits. So, for this, we have downloaded a predefined glove vector of 50 dimensions from the internet. This vector is used for the purpose of word embedding. Each word is represented in a vector of 50 dimensions. \n",
    "\n",
    "The glove vector contains almost all words in the English dictionary."
   ]
  },
  {
   "cell_type": "markdown",
   "metadata": {},
   "source": [
    "The first word of each row is the character that is to be embedded. And from the column to the last column, there is the numeric representation of that character in a 50d vector form. \n",
    "\n",
    "Create embeddings_index dictionary of words and their corresponding index"
   ]
  },
  {
   "cell_type": "code",
   "execution_count": 6,
   "metadata": {},
   "outputs": [],
   "source": [
    "vocab_f ='Datasets/glove.6B.50d.txt'"
   ]
  },
  {
   "cell_type": "code",
   "execution_count": 7,
   "metadata": {
    "id": "rTxuzTSkU_4I"
   },
   "outputs": [
    {
     "data": {
      "text/plain": [
       "array([ 4.1800e-01,  2.4968e-01, -4.1242e-01,  1.2170e-01,  3.4527e-01,\n",
       "       -4.4457e-02, -4.9688e-01, -1.7862e-01, -6.6023e-04, -6.5660e-01,\n",
       "        2.7843e-01, -1.4767e-01, -5.5677e-01,  1.4658e-01, -9.5095e-03,\n",
       "        1.1658e-02,  1.0204e-01, -1.2792e-01, -8.4430e-01, -1.2181e-01,\n",
       "       -1.6801e-02, -3.3279e-01, -1.5520e-01, -2.3131e-01, -1.9181e-01,\n",
       "       -1.8823e+00, -7.6746e-01,  9.9051e-02, -4.2125e-01, -1.9526e-01,\n",
       "        4.0071e+00, -1.8594e-01, -5.2287e-01, -3.1681e-01,  5.9213e-04,\n",
       "        7.4449e-03,  1.7778e-01, -1.5897e-01,  1.2041e-02, -5.4223e-02,\n",
       "       -2.9871e-01, -1.5749e-01, -3.4758e-01, -4.5637e-02, -4.4251e-01,\n",
       "        1.8785e-01,  2.7849e-03, -1.8411e-01, -1.1514e-01, -7.8581e-01],\n",
       "      dtype=float32)"
      ]
     },
     "execution_count": 7,
     "metadata": {},
     "output_type": "execute_result"
    }
   ],
   "source": [
    "embeddings_index = {}\n",
    "with open(vocab_f,encoding='utf8') as f:\n",
    "    for line in f:\n",
    "        values = line.rstrip().rsplit(' ')\n",
    "        word = values[0]\n",
    "        coefs = np.asarray(values[1:], dtype='float32')\n",
    "        embeddings_index[word] = coefs\n",
    "\n",
    "# the embedding index of word 'happy'\n",
    "embeddings_index['the']"
   ]
  },
  {
   "cell_type": "markdown",
   "metadata": {},
   "source": [
    "Map each word of our dataset for their corresponding embedding vector\n",
    "Now, each word of the dataset should be embedded in 50 dimensions vector with the help of the dictionary form above."
   ]
  },
  {
   "cell_type": "code",
   "execution_count": 8,
   "metadata": {
    "id": "BNzPs_NySXhu"
   },
   "outputs": [],
   "source": [
    "embedded_feel_arr=[]\n",
    "for each_sentence in feel_arr:\n",
    "    embedded_feel_arr.append([])\n",
    "    for word in each_sentence:\n",
    "        if word.lower() in embeddings_index:\n",
    "            embedded_feel_arr[-1].append(embeddings_index[word.lower()])\n",
    "        else:\n",
    "            embedded_feel_arr[-1].append([0]*50)\n"
   ]
  },
  {
   "cell_type": "code",
   "execution_count": 37,
   "metadata": {},
   "outputs": [],
   "source": [
    "#print(embedded_feel_arr[0])"
   ]
  },
  {
   "cell_type": "code",
   "execution_count": 9,
   "metadata": {
    "colab": {
     "base_uri": "https://localhost:8080/"
    },
    "id": "l-UpQz64Z43z",
    "outputId": "05caa604-bd19-46bd-ebf7-40eeb3767526"
   },
   "outputs": [
    {
     "name": "stdout",
     "output_type": "stream",
     "text": [
      "[-0.61201   0.98226   0.11539   0.014623  0.23873  -0.067035  0.30632\n",
      " -0.64742  -0.38517  -0.03691   0.094788  0.57631  -0.091557 -0.54825\n",
      "  0.25255  -0.14759   0.13023   0.21658  -0.30623   0.30028  -0.23471\n",
      " -0.17927   0.9518    0.54258   0.31172  -0.51038  -0.65223  -0.48858\n",
      "  0.13486  -0.40132   2.493    -0.38777  -0.26456  -0.49414  -0.3871\n",
      " -0.20983   0.82941  -0.46253   0.39549   0.014881  0.79485  -0.79958\n",
      " -0.16243   0.013862 -0.53536   0.52536   0.019818 -0.16353   0.30649\n",
      "  0.81745 ]\n"
     ]
    }
   ],
   "source": [
    "print(embedded_feel_arr[0][0])"
   ]
  },
  {
   "cell_type": "markdown",
   "metadata": {},
   "source": [
    "Here, in the above example, the dictionary formed i.e embeddings_index contains the word and its corresponding 50d vector, "
   ]
  },
  {
   "cell_type": "code",
   "execution_count": 10,
   "metadata": {
    "colab": {
     "base_uri": "https://localhost:8080/"
    },
    "id": "L1p4TDUuZ8Ow",
    "outputId": "d89abf66-8eb9-41e3-9dea-8aaf87961959"
   },
   "outputs": [
    {
     "name": "stdout",
     "output_type": "stream",
     "text": [
      "(7575, 100, 50)\n"
     ]
    }
   ],
   "source": [
    "X=np.array(embedded_feel_arr)\n",
    "print(np.shape(X)) #7575 total records, 100 words in each records i.e. 100 columns and every word has 50 embeded index values"
   ]
  },
  {
   "cell_type": "markdown",
   "metadata": {},
   "source": [
    "#### Step 6: One Hot encoding for the target variables and split train and test dataset\n",
    "\n",
    "Now, we are done with all the preprocessing parts, and now we need to perform the following operations:\n",
    "\n",
    "Do one-hot encoding of each emotion.\n",
    "Split the dataset into train and test sets."
   ]
  },
  {
   "cell_type": "code",
   "execution_count": 11,
   "metadata": {},
   "outputs": [],
   "source": [
    "#Converting x into numpy-array\n",
    "X=np.array(embedded_feel_arr)\n",
    "\n",
    "# Perform one-hot encoding on df[0] i.e emotion\n",
    "from sklearn.preprocessing import OneHotEncoder\n",
    "enc = OneHotEncoder(handle_unknown='ignore')\n",
    "Y = enc.fit_transform(np.array(df[0]).reshape(-1,1)).toarray() #0th column of our original dataset df which carry emotions\n",
    "\n",
    "# Split into train and test\n",
    "from sklearn.model_selection import train_test_split\n",
    "X_train, X_test, Y_train, Y_test = train_test_split(X, Y, test_size=0.2, random_state=42)"
   ]
  },
  {
   "cell_type": "markdown",
   "metadata": {},
   "source": [
    "####  Step 7: Build the model"
   ]
  },
  {
   "cell_type": "code",
   "execution_count": 12,
   "metadata": {},
   "outputs": [],
   "source": [
    "#Also see below at the last the explanation of LSTM framework with diagram\n",
    "\n",
    "class BiLSTMModel:\n",
    "    def __init__(self):\n",
    "        self.model = Sequential()                                       #first 100 is the number of hidden nodes\n",
    "        self.model.add(Bidirectional(LSTM(100, input_shape=(100, 50)))) #https://shiva-verma.medium.com/understanding-input-and-output-shape-in-lstm-keras-c501ee95c65e#:~:text=You%20always%20have%20to%20give%20a%20three-dimensional%20array,the%20input%20shape%20looks%20like%20%28batch_size%2C%20time_steps%2C%20units%29.\n",
    "        self.model.add(Dropout(0.2))   #for node dropout rate in the hidden layers.      #Here, the dimension of input is 100 X 50 where 100 is the number of words in each input sentence of the dataset and 50 represents the mapping of each word in a 50d vector.\n",
    "        self.model.add(Dense(7, activation='softmax')) #Output layer\n",
    "        self.model.compile(optimizer='Adam', loss='categorical_crossentropy', metrics=['accuracy'])\n",
    "\n",
    "    def fit(self, X, Y, epochs, batch_size):\n",
    "        self.model.fit(X, Y, epochs=epochs, batch_size=batch_size)\n",
    "\n",
    "    def evaluate(self, X, Y, batch_size):\n",
    "        return self.model.evaluate(X, Y, batch_size=batch_size)\n",
    "\n",
    "    def predict(self, X):\n",
    "        return self.model.predict(X)\n"
   ]
  },
  {
   "cell_type": "markdown",
   "metadata": {},
   "source": [
    "#### Step 8: Train the model"
   ]
  },
  {
   "cell_type": "code",
   "execution_count": 13,
   "metadata": {},
   "outputs": [
    {
     "name": "stdout",
     "output_type": "stream",
     "text": [
      "Epoch 1/5\n",
      "48/48 [==============================] - 19s 284ms/step - loss: 1.8602 - accuracy: 0.2528\n",
      "Epoch 2/5\n",
      "48/48 [==============================] - 14s 288ms/step - loss: 1.6810 - accuracy: 0.3550\n",
      "Epoch 3/5\n",
      "48/48 [==============================] - 14s 286ms/step - loss: 1.6290 - accuracy: 0.3733\n",
      "Epoch 4/5\n",
      "48/48 [==============================] - 14s 283ms/step - loss: 1.5505 - accuracy: 0.4097\n",
      "Epoch 5/5\n",
      "48/48 [==============================] - 13s 276ms/step - loss: 1.4991 - accuracy: 0.4304\n"
     ]
    }
   ],
   "source": [
    "# create an instance of the BiLSTMModel class\n",
    "model = BiLSTMModel()\n",
    "\n",
    "# fit the model on the input and target data\n",
    "model.fit(X_train,Y_train, epochs=5, batch_size=128) #128 decides 48 in the result i.e. batch size desides number of batches"
   ]
  },
  {
   "cell_type": "markdown",
   "metadata": {},
   "source": [
    "#### Step 9: Model Summary"
   ]
  },
  {
   "cell_type": "code",
   "execution_count": 14,
   "metadata": {},
   "outputs": [
    {
     "name": "stdout",
     "output_type": "stream",
     "text": [
      "Model: \"sequential\"\n",
      "_________________________________________________________________\n",
      " Layer (type)                Output Shape              Param #   \n",
      "=================================================================\n",
      " bidirectional (Bidirectiona  (None, 200)              120800    \n",
      " l)                                                              \n",
      "                                                                 \n",
      " dropout (Dropout)           (None, 200)               0         \n",
      "                                                                 \n",
      " dense (Dense)               (None, 7)                 1407      \n",
      "                                                                 \n",
      "=================================================================\n",
      "Total params: 122,207\n",
      "Trainable params: 122,207\n",
      "Non-trainable params: 0\n",
      "_________________________________________________________________\n"
     ]
    }
   ],
   "source": [
    "# print the summary of the model\n",
    "model.model.summary()"
   ]
  },
  {
   "cell_type": "markdown",
   "metadata": {},
   "source": [
    "This is the diagram of the proposed model :\n",
    "\n",
    "Here, the dimension of input is 100 X 50 where 100 is the number of words in each input sentence of the dataset and 50 represents the mapping of each word in a 50d vector.\n",
    "\n",
    "The output of Bidirectional(LSTM) is 200 because above we have defined the dimensionality of output space to be 100. As it is a BiLSTM model, so dimensionality will be 100*2 =200, as a BiLSTM contains two LSTM layers- one forward and the other backward.\n",
    "\n",
    "After this dropout layer is added to prevent overfitting. And at last dense layer is applied to convert the 200 output sequences to 7, as we have only 7 emotions, so the output should be of seven dimensions only."
   ]
  },
  {
   "cell_type": "markdown",
   "metadata": {},
   "source": [
    "#### Step 10: Testing the model"
   ]
  },
  {
   "cell_type": "code",
   "execution_count": 15,
   "metadata": {},
   "outputs": [
    {
     "name": "stdout",
     "output_type": "stream",
     "text": [
      "152/152 [==============================] - 7s 24ms/step - loss: 1.5753 - accuracy: 0.3941\n"
     ]
    },
    {
     "data": {
      "text/plain": [
       "[1.5752731561660767, 0.394059419631958]"
      ]
     },
     "execution_count": 15,
     "metadata": {},
     "output_type": "execute_result"
    }
   ],
   "source": [
    "#Testing the model\n",
    "model.evaluate(X_test,Y_test, batch_size=10) #There are 1515 records in test set"
   ]
  },
  {
   "cell_type": "markdown",
   "metadata": {},
   "source": [
    "The accuracy of the model is ..."
   ]
  },
  {
   "cell_type": "code",
   "execution_count": 19,
   "metadata": {},
   "outputs": [],
   "source": [
    "#from keras.utils.vis_utils import plot_model\n",
    "#plot_model(model, to_file='model_plot.png', show_shapes=True, show_layer_names=True)"
   ]
  },
  {
   "cell_type": "code",
   "execution_count": 16,
   "metadata": {},
   "outputs": [],
   "source": [
    "from sklearn.preprocessing import OneHotEncoder\n",
    "enc = OneHotEncoder(handle_unknown='ignore')\n",
    "Y = enc.fit_transform(np.array(df[0]).reshape(-1,1)).toarray()\n",
    "\n",
    "# Split into train and test\n",
    "from keras.layers import Embedding\n",
    "from sklearn.model_selection import train_test_split\n",
    "X_train, X_test, Y_train, Y_test = train_test_split(X, Y, test_size=0.2, random_state=42)\n",
    "\n",
    "#Defining the BiLSTM Model\n",
    "def model(X,Y,input_size1,input_size2,output_size):\n",
    "  m=Sequential()\n",
    "  m.add(Bidirectional(LSTM(100,input_shape=(input_size1,input_size2))))\n",
    "  m.add(Dropout(0.5))\n",
    "  m.add(Dense(output_size,activation='softmax'))\n",
    "  m.compile('Adam','categorical_crossentropy',['accuracy'])\n",
    "  m.fit(X,Y,epochs=15, batch_size=128)\n",
    "  return m"
   ]
  },
  {
   "cell_type": "code",
   "execution_count": 17,
   "metadata": {},
   "outputs": [
    {
     "name": "stdout",
     "output_type": "stream",
     "text": [
      "Epoch 1/15\n",
      "48/48 [==============================] - 21s 319ms/step - loss: 1.9063 - accuracy: 0.2094\n",
      "Epoch 2/15\n",
      "48/48 [==============================] - 16s 335ms/step - loss: 1.7342 - accuracy: 0.3309\n",
      "Epoch 3/15\n",
      "48/48 [==============================] - 17s 343ms/step - loss: 1.6337 - accuracy: 0.3794\n",
      "Epoch 4/15\n",
      "48/48 [==============================] - 16s 323ms/step - loss: 1.5776 - accuracy: 0.3980\n",
      "Epoch 5/15\n",
      "48/48 [==============================] - 15s 307ms/step - loss: 1.5436 - accuracy: 0.4185\n",
      "Epoch 6/15\n",
      "48/48 [==============================] - 15s 307ms/step - loss: 1.4865 - accuracy: 0.4467\n",
      "Epoch 7/15\n",
      "48/48 [==============================] - 16s 323ms/step - loss: 1.4808 - accuracy: 0.4454\n",
      "Epoch 8/15\n",
      "48/48 [==============================] - 17s 355ms/step - loss: 1.4298 - accuracy: 0.4667\n",
      "Epoch 9/15\n",
      "48/48 [==============================] - 15s 315ms/step - loss: 1.3886 - accuracy: 0.4815\n",
      "Epoch 10/15\n",
      "48/48 [==============================] - 14s 280ms/step - loss: 1.3962 - accuracy: 0.4853\n",
      "Epoch 11/15\n",
      "48/48 [==============================] - 13s 278ms/step - loss: 1.3472 - accuracy: 0.5010\n",
      "Epoch 12/15\n",
      "48/48 [==============================] - 13s 279ms/step - loss: 1.3181 - accuracy: 0.5167\n",
      "Epoch 13/15\n",
      "48/48 [==============================] - 13s 279ms/step - loss: 1.3107 - accuracy: 0.5238\n",
      "Epoch 14/15\n",
      "48/48 [==============================] - 18s 381ms/step - loss: 1.2817 - accuracy: 0.5347\n",
      "Epoch 15/15\n",
      "48/48 [==============================] - 17s 358ms/step - loss: 1.2371 - accuracy: 0.5479\n"
     ]
    }
   ],
   "source": [
    "bilstmModel=model(X_train,Y_train,100,50,7)"
   ]
  },
  {
   "cell_type": "code",
   "execution_count": 18,
   "metadata": {},
   "outputs": [
    {
     "name": "stdout",
     "output_type": "stream",
     "text": [
      "Model: \"sequential_1\"\n",
      "_________________________________________________________________\n",
      " Layer (type)                Output Shape              Param #   \n",
      "=================================================================\n",
      " bidirectional_1 (Bidirectio  (None, 200)              120800    \n",
      " nal)                                                            \n",
      "                                                                 \n",
      " dropout_1 (Dropout)         (None, 200)               0         \n",
      "                                                                 \n",
      " dense_1 (Dense)             (None, 7)                 1407      \n",
      "                                                                 \n",
      "=================================================================\n",
      "Total params: 122,207\n",
      "Trainable params: 122,207\n",
      "Non-trainable params: 0\n",
      "_________________________________________________________________\n"
     ]
    }
   ],
   "source": [
    "bilstmModel.summary()"
   ]
  },
  {
   "cell_type": "code",
   "execution_count": 23,
   "metadata": {},
   "outputs": [],
   "source": [
    "#from keras.utils.vis_utils import plot_model\n",
    "#import pydot\n",
    "#import graphviz\n",
    "#plot_model(bilstmModel, to_file='model_plot.png', show_shapes=True, show_layer_names=True)"
   ]
  },
  {
   "cell_type": "code",
   "execution_count": 19,
   "metadata": {},
   "outputs": [
    {
     "name": "stdout",
     "output_type": "stream",
     "text": [
      "48/48 [==============================] - 4s 47ms/step - loss: 1.4112 - accuracy: 0.4772\n"
     ]
    },
    {
     "data": {
      "text/plain": [
       "[1.4112303256988525, 0.47722771763801575]"
      ]
     },
     "execution_count": 19,
     "metadata": {},
     "output_type": "execute_result"
    }
   ],
   "source": [
    "bilstmModel.evaluate(X_test,Y_test)"
   ]
  },
  {
   "cell_type": "markdown",
   "metadata": {},
   "source": [
    "The accuracy is 51%"
   ]
  },
  {
   "attachments": {
    "image.png": {
     "image/png": "[encoded data removed]"
    }
   },
   "cell_type": "markdown",
   "metadata": {},
   "source": [
    "![image.png](attachment:image.png)"
   ]
  },
  {
   "cell_type": "markdown",
   "metadata": {},
   "source": [
    "parameters in our example:\n",
    "\n",
    "model.add(LSTM(hidden_nodes, input_shape=(timesteps, input_dim)))\n",
    "model.add(Dropout(dropout_value))\n",
    "\n",
    "hidden_nodes = This is the number of neurons of the LSTM. If you have a higher number, the network gets more powerful. Howevery, the number of parameters to learn also rises. This means it needs more time to train the network.\n",
    "\n",
    "timesteps = the number of timesteps you want to consider. E.g. if you want to classify a sentence, this would be the number of words in a sentence.\n",
    "\n",
    "input_dim = the dimensions of your features/embeddings. E.g. a vector representation of the words in the sentence\n",
    "\n",
    "dropout_value = To reduce overfitting, the dropout layer just randomly takes a portion of the possible network connections. This value is the percentage of the considered network connections per epoch/batch."
   ]
  },
  {
   "cell_type": "code",
   "execution_count": null,
   "metadata": {},
   "outputs": [],
   "source": []
  }
 ],
 "metadata": {
  "accelerator": "GPU",
  "colab": {
   "provenance": []
  },
  "kernelspec": {
   "display_name": "Python 3 (ipykernel)",
   "language": "python",
   "name": "python3"
  },
  "language_info": {
   "codemirror_mode": {
    "name": "ipython",
    "version": 3
   },
   "file_extension": ".py",
   "mimetype": "text/x-python",
   "name": "python",
   "nbconvert_exporter": "python",
   "pygments_lexer": "ipython3",
   "version": "3.9.20"
  }
 },
 "nbformat": 4,
 "nbformat_minor": 4
}
